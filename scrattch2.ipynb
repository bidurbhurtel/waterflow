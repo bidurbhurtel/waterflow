{
 "cells": [
  {
   "cell_type": "code",
   "execution_count": 1,
   "metadata": {},
   "outputs": [],
   "source": [
    "import torch\n",
    "import torch.nn as nn\n",
    "import torch.nn.functional as F\n",
    "import numpy as np\n",
    "import pandas as pd\n",
    "import matplotlib.pyplot as plt\n",
    "from sklearn.model_selection import train_test_split\n",
    "from sklearn.preprocessing import MinMaxScaler\n",
    "from tqdm import tqdm_notebook\n",
    "import time"
   ]
  },
  {
   "cell_type": "code",
   "execution_count": 2,
   "metadata": {},
   "outputs": [],
   "source": [
    "data = [(torch.tensor([[0.0000000000, 0.8769030571, 0.0027716185],\n",
    "          [0.0000000000, 0.8232454658, 0.0027716185],\n",
    "          [0.0000000000, 0.7695878148, 0.0027716185],\n",
    "          [0.0000000000, 0.7161158323, 0.0027716185],\n",
    "          [0.0000000000, 0.6930931807, 0.0027716185],\n",
    "          [0.0000000000, 0.6700705290, 0.0027716185],\n",
    "          [0.0000000000, 0.6470478773, 0.0027716185],\n",
    "          [0.0000000000, 0.6353508830, 0.0027716185],\n",
    "          [0.0000000000, 0.6234682798, 0.0027716185],\n",
    "          [0.0000000000, 0.6115856171, 0.0027716185],\n",
    "          [0.0000000000, 0.6032305956, 0.0027716185],\n",
    "          [0.0000000000, 0.5946899652, 0.0027716185],\n",
    "          [0.0000000000, 0.5863349438, 0.0027716185],\n",
    "          [0.0000000000, 0.5820646286, 0.0027716185],\n",
    "          [0.0000000000, 0.5779799223, 0.0027716185],\n",
    "          [0.0000000000, 0.5737096071, 0.0027716185],\n",
    "          [0.0000000000, 0.6394355893, 0.0027716185],\n",
    "          [0.0000000000, 0.7049758434, 0.0027716185]]),\n",
    "  torch.tensor(0.0022172949)),\n",
    " (torch.tensor([[0.0000000000, 0.8232454658, 0.0027716185],\n",
    "          [0.0000000000, 0.7695878148, 0.0027716185],\n",
    "          [0.0000000000, 0.7161158323, 0.0027716185],\n",
    "          [0.0000000000, 0.6930931807, 0.0027716185],\n",
    "          [0.0000000000, 0.6700705290, 0.0027716185],\n",
    "          [0.0000000000, 0.6470478773, 0.0027716185],\n",
    "          [0.0000000000, 0.6353508830, 0.0027716185],\n",
    "          [0.0000000000, 0.6234682798, 0.0027716185],\n",
    "          [0.0000000000, 0.6115856171, 0.0027716185],\n",
    "          [0.0000000000, 0.6032305956, 0.0027716185],\n",
    "          [0.0000000000, 0.5946899652, 0.0027716185],\n",
    "          [0.0000000000, 0.5863349438, 0.0027716185],\n",
    "          [0.0000000000, 0.5820646286, 0.0027716185],\n",
    "          [0.0000000000, 0.5779799223, 0.0027716185],\n",
    "          [0.0000000000, 0.5737096071, 0.0027716185],\n",
    "          [0.0000000000, 0.6394355893, 0.0027716185],\n",
    "          [0.0000000000, 0.7049758434, 0.0027716185],\n",
    "          [0.0000000000, 0.7707018256, 0.0022172949]]),\n",
    "  torch.tensor(0.0022172949))]"
   ]
  },
  {
   "cell_type": "code",
   "execution_count": 3,
   "metadata": {},
   "outputs": [],
   "source": [
    "class LSTMnetwork(nn.Module):\n",
    "    def __init__(self,input_size=3,hidden_size1=24, hidden_size2=50, hidden_size3=20,output_size=1):\n",
    "        super().__init__()\n",
    "        self.hidden_size1 = hidden_size1\n",
    "        self.hidden_size2 = hidden_size2\n",
    "        self.hidden_size3 = hidden_size3\n",
    "        \n",
    "        # Add an LSTM and dropout layer:\n",
    "        self.lstm1 = nn.LSTM(input_size,hidden_size1)\n",
    "        self.dropout1 = nn.Dropout(p=0.2)\n",
    "        \n",
    "        # Add second LSTM and dropout layer:\n",
    "        self.lstm2 = nn.LSTM(hidden_size1,hidden_size2)\n",
    "        self.dropout2 = nn.Dropout(p=0.2)\n",
    "        \n",
    "        # Add a fully-connected layer:\n",
    "        self.fc1 = nn.Linear(hidden_size2,hidden_size3)\n",
    "        \n",
    "        # Add a fully-connected layer:\n",
    "        self.fc2 = nn.Linear(hidden_size3,output_size)\n",
    "        \n",
    "        # Initialize h0 and c0:\n",
    "        self.hidden1 = (torch.zeros(1,1,self.hidden_size1),\n",
    "                       torch.zeros(1,1,self.hidden_size1))\n",
    "        \n",
    "        # Initialize h1 and c1:\n",
    "        self.hidden2 = (torch.zeros(1,1,self.hidden_size2),\n",
    "                       torch.zeros(1,1,self.hidden_size2))\n",
    "\n",
    "    def forward(self,seq):\n",
    "        lstm1_out, self.hidden1 = self.lstm1(seq.view(len(seq),1,-1), self.hidden1)\n",
    "        dropout1 = self.dropout1(lstm1_out)\n",
    "        lstm2_out, self.hidden2 = self.lstm2(dropout1.view(len(dropout1),1,-1), self.hidden2)\n",
    "        dropout2 = self.dropout2(lstm2_out)\n",
    "        fc1_out = F.relu(self.fc1(dropout2))\n",
    "        fc2_out = self.fc2(fc1_out)\n",
    "        return fc2_out[-1]"
   ]
  },
  {
   "cell_type": "code",
   "execution_count": 4,
   "metadata": {},
   "outputs": [],
   "source": [
    "#model instatiation, loss funciton, optimization\n",
    "model = LSTMnetwork()\n",
    "criterion = nn.MSELoss()\n",
    "optimizer = torch.optim.Adam(model.parameters(), lr = 0.001)"
   ]
  },
  {
   "cell_type": "code",
   "execution_count": 7,
   "metadata": {},
   "outputs": [
    {
     "name": "stdout",
     "output_type": "stream",
     "text": [
      "tensor([[-0.1760]], grad_fn=<SelectBackward>)\n",
      "tensor([[-0.1497]], grad_fn=<SelectBackward>)\n"
     ]
    }
   ],
   "source": [
    "for seq, label in data:\n",
    "        \n",
    "    #reset the parameters and hidden states\n",
    "    optimizer.zero_grad()        \n",
    "    model.hidden1 = (torch.zeros(1,1,model.hidden_size1),\n",
    "                   torch.zeros(1,1,model.hidden_size1))        \n",
    "\n",
    "    model.hidden2 = (torch.zeros(1,1,model.hidden_size2),\n",
    "                   torch.zeros(1,1,model.hidden_size2))\n",
    "\n",
    "    y_pred_train = model(seq)\n",
    "    print(y_pred_train)\n",
    "\n",
    "    loss = criterion(y_pred_train, label.reshape(1,1))\n",
    "    loss.backward()\n",
    "    optimizer.step()"
   ]
  },
  {
   "cell_type": "code",
   "execution_count": 8,
   "metadata": {},
   "outputs": [
    {
     "data": {
      "text/plain": [
       "tensor([[-0.1497]], grad_fn=<SelectBackward>)"
      ]
     },
     "execution_count": 8,
     "metadata": {},
     "output_type": "execute_result"
    }
   ],
   "source": [
    "y_pred_train"
   ]
  },
  {
   "cell_type": "code",
   "execution_count": 25,
   "metadata": {},
   "outputs": [],
   "source": [
    "yi = torch.tensor(0.0022)"
   ]
  },
  {
   "cell_type": "code",
   "execution_count": 28,
   "metadata": {},
   "outputs": [
    {
     "data": {
      "text/plain": [
       "tensor([[0.0022]])"
      ]
     },
     "execution_count": 28,
     "metadata": {},
     "output_type": "execute_result"
    }
   ],
   "source": [
    "yi.reshape(1,1)"
   ]
  },
  {
   "cell_type": "code",
   "execution_count": 27,
   "metadata": {},
   "outputs": [
    {
     "data": {
      "text/plain": [
       "torch.Size([1, 1])"
      ]
     },
     "execution_count": 27,
     "metadata": {},
     "output_type": "execute_result"
    }
   ],
   "source": [
    "y_pred_train.size()"
   ]
  },
  {
   "cell_type": "code",
   "execution_count": 15,
   "metadata": {},
   "outputs": [
    {
     "name": "stdout",
     "output_type": "stream",
     "text": [
      "tensor([[0.0000, 0.8769, 0.0028],\n",
      "        [0.0000, 0.8232, 0.0028],\n",
      "        [0.0000, 0.7696, 0.0028],\n",
      "        [0.0000, 0.7161, 0.0028],\n",
      "        [0.0000, 0.6931, 0.0028],\n",
      "        [0.0000, 0.6701, 0.0028],\n",
      "        [0.0000, 0.6470, 0.0028],\n",
      "        [0.0000, 0.6354, 0.0028],\n",
      "        [0.0000, 0.6235, 0.0028],\n",
      "        [0.0000, 0.6116, 0.0028],\n",
      "        [0.0000, 0.6032, 0.0028],\n",
      "        [0.0000, 0.5947, 0.0028],\n",
      "        [0.0000, 0.5863, 0.0028],\n",
      "        [0.0000, 0.5821, 0.0028],\n",
      "        [0.0000, 0.5780, 0.0028],\n",
      "        [0.0000, 0.5737, 0.0028],\n",
      "        [0.0000, 0.6394, 0.0028],\n",
      "        [0.0000, 0.7050, 0.0028]])\n",
      "tensor(0.0022)\n",
      "tensor([[0.0000, 0.8232, 0.0028],\n",
      "        [0.0000, 0.7696, 0.0028],\n",
      "        [0.0000, 0.7161, 0.0028],\n",
      "        [0.0000, 0.6931, 0.0028],\n",
      "        [0.0000, 0.6701, 0.0028],\n",
      "        [0.0000, 0.6470, 0.0028],\n",
      "        [0.0000, 0.6354, 0.0028],\n",
      "        [0.0000, 0.6235, 0.0028],\n",
      "        [0.0000, 0.6116, 0.0028],\n",
      "        [0.0000, 0.6032, 0.0028],\n",
      "        [0.0000, 0.5947, 0.0028],\n",
      "        [0.0000, 0.5863, 0.0028],\n",
      "        [0.0000, 0.5821, 0.0028],\n",
      "        [0.0000, 0.5780, 0.0028],\n",
      "        [0.0000, 0.5737, 0.0028],\n",
      "        [0.0000, 0.6394, 0.0028],\n",
      "        [0.0000, 0.7050, 0.0028],\n",
      "        [0.0000, 0.7707, 0.0022]])\n",
      "tensor(0.0022)\n"
     ]
    }
   ],
   "source": [
    "for i,j in data: \n",
    "    print(i)\n",
    "    print(j)"
   ]
  },
  {
   "cell_type": "code",
   "execution_count": 17,
   "metadata": {},
   "outputs": [],
   "source": [
    "import numpy as np\n",
    "import pandas as pd\n",
    "import matplotlib.pyplot as plt\n",
    "from sklearn.model_selection import train_test_split\n",
    "from sklearn.preprocessing import MinMaxScaler\n",
    "from keras.models import Sequential\n",
    "from keras.models import Model\n",
    "from keras.layers import Input\n",
    "from keras.utils import plot_model\n",
    "from keras.layers import LSTM, Dense\n",
    "from keras.layers import Activation, Flatten, Dropout, Concatenate\n",
    "from keras.optimizers import SGD\n",
    "from tqdm import tqdm_notebook\n",
    "from sklearn.metrics import mean_squared_error\n"
   ]
  },
  {
   "cell_type": "code",
   "execution_count": 19,
   "metadata": {},
   "outputs": [
    {
     "name": "stdout",
     "output_type": "stream",
     "text": [
      "('Failed to import pydot. You must `pip install pydot` and install graphviz (https://graphviz.gitlab.io/download/), ', 'for `pydotprint` to work.')\n"
     ]
    }
   ],
   "source": [
    "#Build Model\n",
    "inp = Input(shape=(18, 3), name = 'inp')\n",
    "#build modelA\n",
    "lstm1A = LSTM(units=24, return_sequences=True, \n",
    "               name = 'lstm1A')(inp)\n",
    "do1A = Dropout(0.2, name = 'do1A')(lstm1A)\n",
    "lstm2A = LSTM(units=50, name = 'lstm2A')(do1A)\n",
    "do2A = Dropout(0.2, name = 'do2A')(lstm2A)\n",
    "\n",
    "#build modelB\n",
    "lstm1B = LSTM(units=24, return_sequences=True, \n",
    "               name = 'lstm1B')(inp)\n",
    "do1B = Dropout(0.2, name = 'do1B')(lstm1B)\n",
    "lstm2B = LSTM(units=50, name = 'lstm2B')(do1B)\n",
    "do2B = Dropout(0.2, name = 'do2B')(lstm2B)\n",
    "\n",
    "#combine modelA and modelB by dense layer\n",
    "model_concat = Concatenate()([do2A, do2B])\n",
    "den1 = Dense(20, activation='relu')(model_concat)\n",
    "den2 = Dense(2, activation='linear')(den1)\n",
    "\n",
    "merged = Model(inputs=[inp],outputs=[den2])\n",
    "plot_model(merged,to_file='demo.png',show_shapes=True)"
   ]
  },
  {
   "cell_type": "code",
   "execution_count": 16,
   "metadata": {},
   "outputs": [
    {
     "name": "stdout",
     "output_type": "stream",
     "text": [
      "Model: \"functional_5\"\n",
      "__________________________________________________________________________________________________\n",
      "Layer (type)                    Output Shape         Param #     Connected to                     \n",
      "==================================================================================================\n",
      "inp (InputLayer)                [(None, 18, 3)]      0                                            \n",
      "__________________________________________________________________________________________________\n",
      "lstm1A (LSTM)                   (None, 18, 24)       2688        inp[0][0]                        \n",
      "__________________________________________________________________________________________________\n",
      "lstm1B (LSTM)                   (None, 18, 24)       2688        inp[0][0]                        \n",
      "__________________________________________________________________________________________________\n",
      "do1A (Dropout)                  (None, 18, 24)       0           lstm1A[0][0]                     \n",
      "__________________________________________________________________________________________________\n",
      "do1B (Dropout)                  (None, 18, 24)       0           lstm1B[0][0]                     \n",
      "__________________________________________________________________________________________________\n",
      "lstm2A (LSTM)                   (None, 50)           15000       do1A[0][0]                       \n",
      "__________________________________________________________________________________________________\n",
      "lstm2B (LSTM)                   (None, 50)           15000       do1B[0][0]                       \n",
      "__________________________________________________________________________________________________\n",
      "do2A (Dropout)                  (None, 50)           0           lstm2A[0][0]                     \n",
      "__________________________________________________________________________________________________\n",
      "do2B (Dropout)                  (None, 50)           0           lstm2B[0][0]                     \n",
      "__________________________________________________________________________________________________\n",
      "concatenate_3 (Concatenate)     (None, 100)          0           do2A[0][0]                       \n",
      "                                                                 do2B[0][0]                       \n",
      "__________________________________________________________________________________________________\n",
      "dense_6 (Dense)                 (None, 20)           2020        concatenate_3[0][0]              \n",
      "__________________________________________________________________________________________________\n",
      "dense_7 (Dense)                 (None, 2)            42          dense_6[0][0]                    \n",
      "==================================================================================================\n",
      "Total params: 37,438\n",
      "Trainable params: 37,438\n",
      "Non-trainable params: 0\n",
      "__________________________________________________________________________________________________\n"
     ]
    }
   ],
   "source": [
    "merged.summary()"
   ]
  },
  {
   "cell_type": "code",
   "execution_count": null,
   "metadata": {},
   "outputs": [],
   "source": []
  }
 ],
 "metadata": {
  "kernelspec": {
   "display_name": "Python 3",
   "language": "python",
   "name": "python3"
  },
  "language_info": {
   "codemirror_mode": {
    "name": "ipython",
    "version": 3
   },
   "file_extension": ".py",
   "mimetype": "text/x-python",
   "name": "python",
   "nbconvert_exporter": "python",
   "pygments_lexer": "ipython3",
   "version": "3.7.6"
  }
 },
 "nbformat": 4,
 "nbformat_minor": 4
}
