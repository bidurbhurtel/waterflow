{
 "cells": [
  {
   "cell_type": "code",
   "execution_count": 28,
   "metadata": {},
   "outputs": [],
   "source": [
    "import numpy as np\n",
    "import pandas as pd\n",
    "import matplotlib.pyplot as plt\n",
    "from sklearn.model_selection import train_test_split\n",
    "from sklearn.preprocessing import MinMaxScaler\n",
    "from keras.models import Sequential\n",
    "from keras.layers import LSTM, Dense\n",
    "from keras.layers import Activation, Flatten, Dropout\n",
    "from keras.optimizers import SGD\n",
    "from tqdm import tqdm_notebook\n",
    "from sklearn.metrics import mean_squared_error"
   ]
  },
  {
   "cell_type": "code",
   "execution_count": 29,
   "metadata": {},
   "outputs": [],
   "source": [
    "df = pd.read_csv('Sub0-RAW.csv')"
   ]
  },
  {
   "cell_type": "code",
   "execution_count": 30,
   "metadata": {},
   "outputs": [],
   "source": [
    "train_cols = [\"Precipitation\",\"Temperature\",\"Outflow\"]"
   ]
  },
  {
   "cell_type": "code",
   "execution_count": 31,
   "metadata": {},
   "outputs": [],
   "source": [
    "new_df = df.filter(train_cols, axis=1)"
   ]
  },
  {
   "cell_type": "code",
   "execution_count": 33,
   "metadata": {},
   "outputs": [],
   "source": [
    "def timeseries(X, Y, Y_actual, time_steps, out_steps):\n",
    "    input_size_0 = X.shape[0] - time_steps\n",
    "    input_size_1 = X.shape[1]\n",
    "    output_size_1 = Y.shape[1]\n",
    "    X_values = np.zeros((input_size_0, time_steps, input_size_1))\n",
    "    Y_values = np.zeros((input_size_0,output_size_1))\n",
    "    Y_values_actual = np.zeros((input_size_0,output_size_1))\n",
    "    \n",
    "    for i in tqdm_notebook(range(input_size_0)):\n",
    "        X_values[i] = X[i:time_steps+i]\n",
    "        Y_values[i] = Y[time_steps+i-1]\n",
    "        Y_values_actual[i] = Y_actual[time_steps+i-1]\n",
    "        \n",
    "    print(\"length of time-series i/o\",X_values.shape,Y_values.shape)\n",
    "    return X_values, Y_values, Y_values_actual"
   ]
  },
  {
   "cell_type": "code",
   "execution_count": 34,
   "metadata": {},
   "outputs": [],
   "source": [
    "def lag_seq(df, n_seq):\n",
    "    for i in range(n_seq):\n",
    "        df['Precipitation(t+%d)' %(i+1)] = new_df['Precipitation'].shift(-(i+1))\n",
    "        df['Temperature(t+%d)' %(i+1)] = new_df['Temperature'].shift(-(i+1))\n",
    "        df['Outflow(t+%d)' %(i+1)] = new_df['Outflow'].shift(-(i+1))\n",
    "    return df"
   ]
  },
  {
   "cell_type": "code",
   "execution_count": 35,
   "metadata": {},
   "outputs": [],
   "source": [
    "lag_df = lag_seq(new_df, 1)\n",
    "lag_df.dropna(inplace=True)"
   ]
  },
  {
   "cell_type": "code",
   "execution_count": 36,
   "metadata": {},
   "outputs": [],
   "source": [
    "#label_cols = [\"Outflow(t+1)\", \"Outflow(t+2)\", \"Outflow(t+3)\"]\n",
    "label_cols = ['Precipitation(t+1)','Temperature(t+1)','Outflow(t+1)']"
   ]
  },
  {
   "cell_type": "code",
   "execution_count": 37,
   "metadata": {},
   "outputs": [],
   "source": [
    "#Min Max scalr normalizing\n",
    "xtrain_min_max_scaler = MinMaxScaler(feature_range = (0, 1))\n",
    "ytrain_min_max_scaler = MinMaxScaler(feature_range = (0, 1))\n",
    "xtest_min_max_scaler = MinMaxScaler(feature_range = (0, 1))\n",
    "ytest_min_max_scaler = MinMaxScaler(feature_range = (0, 1))"
   ]
  },
  {
   "cell_type": "code",
   "execution_count": 38,
   "metadata": {},
   "outputs": [],
   "source": [
    "#Splitting training and test data\n",
    "df_train, df_test = train_test_split(lag_df, train_size=0.8, test_size=0.2, shuffle=False)\n",
    "x_train = df_train.loc[:,train_cols].values\n",
    "y_train = df_train.loc[:,label_cols].values\n",
    "x_test = df_test.loc[:,train_cols].values\n",
    "y_test = df_test.loc[:,label_cols].values"
   ]
  },
  {
   "cell_type": "code",
   "execution_count": 39,
   "metadata": {},
   "outputs": [],
   "source": [
    "#Normalizing training data\n",
    "x_train_nor = xtrain_min_max_scaler.fit_transform(x_train)\n",
    "y_train_nor = ytrain_min_max_scaler.fit_transform(y_train)\n",
    "\n",
    "# Normalizing test data\n",
    "x_test_nor = xtest_min_max_scaler.fit_transform(x_test)\n",
    "y_test_nor = ytest_min_max_scaler.fit_transform(y_test)"
   ]
  },
  {
   "cell_type": "code",
   "execution_count": 40,
   "metadata": {},
   "outputs": [],
   "source": [
    "y_train_actual = y_train\n",
    "y_test_actual = y_test"
   ]
  },
  {
   "cell_type": "code",
   "execution_count": 41,
   "metadata": {},
   "outputs": [
    {
     "name": "stderr",
     "output_type": "stream",
     "text": [
      "/home/bidur/anaconda3/lib/python3.7/site-packages/ipykernel_launcher.py:9: TqdmDeprecationWarning: This function will be removed in tqdm==5.0.0\n",
      "Please use `tqdm.notebook.tqdm` instead of `tqdm.tqdm_notebook`\n",
      "  if __name__ == '__main__':\n"
     ]
    },
    {
     "data": {
      "application/vnd.jupyter.widget-view+json": {
       "model_id": "91efa014137f4252ab4cbb1c5762a1d7",
       "version_major": 2,
       "version_minor": 0
      },
      "text/plain": [
       "HBox(children=(FloatProgress(value=0.0, max=148416.0), HTML(value='')))"
      ]
     },
     "metadata": {},
     "output_type": "display_data"
    },
    {
     "name": "stdout",
     "output_type": "stream",
     "text": [
      "\n",
      "length of time-series i/o (148416, 18, 3) (148416, 3)\n"
     ]
    },
    {
     "data": {
      "application/vnd.jupyter.widget-view+json": {
       "model_id": "89bec5dc96a74aba8c5b3727d38fe274",
       "version_major": 2,
       "version_minor": 0
      },
      "text/plain": [
       "HBox(children=(FloatProgress(value=0.0, max=37091.0), HTML(value='')))"
      ]
     },
     "metadata": {},
     "output_type": "display_data"
    },
    {
     "name": "stdout",
     "output_type": "stream",
     "text": [
      "\n",
      "length of time-series i/o (37091, 18, 3) (37091, 3)\n"
     ]
    }
   ],
   "source": [
    "#Building timeseries\n",
    "X_Train, Y_Train, Y_train_actual = timeseries(x_train_nor, y_train_nor, y_train_actual, time_steps=18, out_steps=1)\n",
    "X_Test, Y_Test, Y_test_actual = timeseries(x_test_nor, y_test_nor, y_test_actual, time_steps=18, out_steps=1)"
   ]
  },
  {
   "cell_type": "code",
   "execution_count": 42,
   "metadata": {},
   "outputs": [
    {
     "data": {
      "text/plain": [
       "array([[0.        , 0.82324545, 0.00277162],\n",
       "       [0.        , 0.76958782, 0.00277162],\n",
       "       [0.        , 0.71611586, 0.00277162],\n",
       "       [0.        , 0.6930932 , 0.00277162],\n",
       "       [0.        , 0.67007055, 0.00277162],\n",
       "       [0.        , 0.6470479 , 0.00277162],\n",
       "       [0.        , 0.63535091, 0.00277162],\n",
       "       [0.        , 0.62346825, 0.00277162],\n",
       "       [0.        , 0.61158559, 0.00277162],\n",
       "       [0.        , 0.6032306 , 0.00277162],\n",
       "       [0.        , 0.59468994, 0.00277162],\n",
       "       [0.        , 0.58633494, 0.00277162],\n",
       "       [0.        , 0.58206461, 0.00277162],\n",
       "       [0.        , 0.57797995, 0.00277162],\n",
       "       [0.        , 0.57370962, 0.00277162],\n",
       "       [0.        , 0.63943557, 0.00277162],\n",
       "       [0.        , 0.70497586, 0.00277162],\n",
       "       [0.        , 0.77070182, 0.00221729]])"
      ]
     },
     "execution_count": 42,
     "metadata": {},
     "output_type": "execute_result"
    }
   ],
   "source": [
    "X_Train[1]"
   ]
  },
  {
   "cell_type": "code",
   "execution_count": 44,
   "metadata": {},
   "outputs": [
    {
     "data": {
      "text/plain": [
       "array([[ 0.   , 62.348,  1.   ],\n",
       "       [ 0.   , 63.212,  1.   ],\n",
       "       [ 0.   , 64.076,  1.   ],\n",
       "       ...,\n",
       "       [ 0.   , 55.67 , 29.   ],\n",
       "       [ 0.   , 57.074, 29.   ],\n",
       "       [ 0.   , 57.056, 31.   ]])"
      ]
     },
     "execution_count": 44,
     "metadata": {},
     "output_type": "execute_result"
    }
   ],
   "source": [
    "Y_test_actual"
   ]
  },
  {
   "cell_type": "code",
   "execution_count": 15,
   "metadata": {},
   "outputs": [
    {
     "data": {
      "text/html": [
       "<div>\n",
       "<style scoped>\n",
       "    .dataframe tbody tr th:only-of-type {\n",
       "        vertical-align: middle;\n",
       "    }\n",
       "\n",
       "    .dataframe tbody tr th {\n",
       "        vertical-align: top;\n",
       "    }\n",
       "\n",
       "    .dataframe thead th {\n",
       "        text-align: right;\n",
       "    }\n",
       "</style>\n",
       "<table border=\"1\" class=\"dataframe\">\n",
       "  <thead>\n",
       "    <tr style=\"text-align: right;\">\n",
       "      <th></th>\n",
       "      <th>Precipitation</th>\n",
       "      <th>Temperature</th>\n",
       "      <th>Outflow</th>\n",
       "      <th>Precipitation(t+1)</th>\n",
       "      <th>Temperature(t+1)</th>\n",
       "      <th>Outflow(t+1)</th>\n",
       "    </tr>\n",
       "  </thead>\n",
       "  <tbody>\n",
       "    <tr>\n",
       "      <th>0</th>\n",
       "      <td>0.0</td>\n",
       "      <td>102.992</td>\n",
       "      <td>5.0</td>\n",
       "      <td>0.0</td>\n",
       "      <td>97.790</td>\n",
       "      <td>5.0</td>\n",
       "    </tr>\n",
       "    <tr>\n",
       "      <th>1</th>\n",
       "      <td>0.0</td>\n",
       "      <td>97.790</td>\n",
       "      <td>5.0</td>\n",
       "      <td>0.0</td>\n",
       "      <td>92.588</td>\n",
       "      <td>5.0</td>\n",
       "    </tr>\n",
       "    <tr>\n",
       "      <th>2</th>\n",
       "      <td>0.0</td>\n",
       "      <td>92.588</td>\n",
       "      <td>5.0</td>\n",
       "      <td>0.0</td>\n",
       "      <td>87.404</td>\n",
       "      <td>5.0</td>\n",
       "    </tr>\n",
       "    <tr>\n",
       "      <th>3</th>\n",
       "      <td>0.0</td>\n",
       "      <td>87.404</td>\n",
       "      <td>5.0</td>\n",
       "      <td>0.0</td>\n",
       "      <td>85.172</td>\n",
       "      <td>5.0</td>\n",
       "    </tr>\n",
       "    <tr>\n",
       "      <th>4</th>\n",
       "      <td>0.0</td>\n",
       "      <td>85.172</td>\n",
       "      <td>5.0</td>\n",
       "      <td>0.0</td>\n",
       "      <td>82.940</td>\n",
       "      <td>5.0</td>\n",
       "    </tr>\n",
       "    <tr>\n",
       "      <th>...</th>\n",
       "      <td>...</td>\n",
       "      <td>...</td>\n",
       "      <td>...</td>\n",
       "      <td>...</td>\n",
       "      <td>...</td>\n",
       "      <td>...</td>\n",
       "    </tr>\n",
       "    <tr>\n",
       "      <th>185538</th>\n",
       "      <td>0.0</td>\n",
       "      <td>52.880</td>\n",
       "      <td>29.0</td>\n",
       "      <td>0.0</td>\n",
       "      <td>54.284</td>\n",
       "      <td>30.0</td>\n",
       "    </tr>\n",
       "    <tr>\n",
       "      <th>185539</th>\n",
       "      <td>0.0</td>\n",
       "      <td>54.284</td>\n",
       "      <td>30.0</td>\n",
       "      <td>0.0</td>\n",
       "      <td>55.670</td>\n",
       "      <td>29.0</td>\n",
       "    </tr>\n",
       "    <tr>\n",
       "      <th>185540</th>\n",
       "      <td>0.0</td>\n",
       "      <td>55.670</td>\n",
       "      <td>29.0</td>\n",
       "      <td>0.0</td>\n",
       "      <td>57.074</td>\n",
       "      <td>29.0</td>\n",
       "    </tr>\n",
       "    <tr>\n",
       "      <th>185541</th>\n",
       "      <td>0.0</td>\n",
       "      <td>57.074</td>\n",
       "      <td>29.0</td>\n",
       "      <td>0.0</td>\n",
       "      <td>57.056</td>\n",
       "      <td>31.0</td>\n",
       "    </tr>\n",
       "    <tr>\n",
       "      <th>185542</th>\n",
       "      <td>0.0</td>\n",
       "      <td>57.056</td>\n",
       "      <td>31.0</td>\n",
       "      <td>0.0</td>\n",
       "      <td>57.020</td>\n",
       "      <td>38.0</td>\n",
       "    </tr>\n",
       "  </tbody>\n",
       "</table>\n",
       "<p>185543 rows × 6 columns</p>\n",
       "</div>"
      ],
      "text/plain": [
       "        Precipitation  Temperature  Outflow  Precipitation(t+1)  \\\n",
       "0                 0.0      102.992      5.0                 0.0   \n",
       "1                 0.0       97.790      5.0                 0.0   \n",
       "2                 0.0       92.588      5.0                 0.0   \n",
       "3                 0.0       87.404      5.0                 0.0   \n",
       "4                 0.0       85.172      5.0                 0.0   \n",
       "...               ...          ...      ...                 ...   \n",
       "185538            0.0       52.880     29.0                 0.0   \n",
       "185539            0.0       54.284     30.0                 0.0   \n",
       "185540            0.0       55.670     29.0                 0.0   \n",
       "185541            0.0       57.074     29.0                 0.0   \n",
       "185542            0.0       57.056     31.0                 0.0   \n",
       "\n",
       "        Temperature(t+1)  Outflow(t+1)  \n",
       "0                 97.790           5.0  \n",
       "1                 92.588           5.0  \n",
       "2                 87.404           5.0  \n",
       "3                 85.172           5.0  \n",
       "4                 82.940           5.0  \n",
       "...                  ...           ...  \n",
       "185538            54.284          30.0  \n",
       "185539            55.670          29.0  \n",
       "185540            57.074          29.0  \n",
       "185541            57.056          31.0  \n",
       "185542            57.020          38.0  \n",
       "\n",
       "[185543 rows x 6 columns]"
      ]
     },
     "execution_count": 15,
     "metadata": {},
     "output_type": "execute_result"
    }
   ],
   "source": [
    "lag_df"
   ]
  },
  {
   "cell_type": "code",
   "execution_count": 18,
   "metadata": {},
   "outputs": [
    {
     "data": {
      "text/plain": [
       "array([[[0.00000000e+00, 8.76903082e-01, 2.77161863e-03],\n",
       "        [0.00000000e+00, 8.23245451e-01, 2.77161863e-03],\n",
       "        [0.00000000e+00, 7.69587820e-01, 2.77161863e-03],\n",
       "        ...,\n",
       "        [0.00000000e+00, 5.73709618e-01, 2.77161863e-03],\n",
       "        [0.00000000e+00, 6.39435574e-01, 2.77161863e-03],\n",
       "        [0.00000000e+00, 7.04975863e-01, 2.77161863e-03]],\n",
       "\n",
       "       [[0.00000000e+00, 8.23245451e-01, 2.77161863e-03],\n",
       "        [0.00000000e+00, 7.69587820e-01, 2.77161863e-03],\n",
       "        [0.00000000e+00, 7.16115856e-01, 2.77161863e-03],\n",
       "        ...,\n",
       "        [0.00000000e+00, 6.39435574e-01, 2.77161863e-03],\n",
       "        [0.00000000e+00, 7.04975863e-01, 2.77161863e-03],\n",
       "        [0.00000000e+00, 7.70701820e-01, 2.21729490e-03]],\n",
       "\n",
       "       [[0.00000000e+00, 7.69587820e-01, 2.77161863e-03],\n",
       "        [0.00000000e+00, 7.16115856e-01, 2.77161863e-03],\n",
       "        [0.00000000e+00, 6.93093205e-01, 2.77161863e-03],\n",
       "        ...,\n",
       "        [0.00000000e+00, 7.04975863e-01, 2.77161863e-03],\n",
       "        [0.00000000e+00, 7.70701820e-01, 2.21729490e-03],\n",
       "        [0.00000000e+00, 8.09134794e-01, 2.21729490e-03]],\n",
       "\n",
       "       ...,\n",
       "\n",
       "       [[0.00000000e+00, 8.52580765e-01, 5.54323725e-04],\n",
       "        [0.00000000e+00, 8.51095433e-01, 5.54323725e-04],\n",
       "        [0.00000000e+00, 8.49610100e-01, 5.54323725e-04],\n",
       "        ...,\n",
       "        [0.00000000e+00, 4.95544003e-01, 5.54323725e-04],\n",
       "        [0.00000000e+00, 5.07612328e-01, 5.54323725e-04],\n",
       "        [0.00000000e+00, 5.19866320e-01, 5.54323725e-04]],\n",
       "\n",
       "       [[0.00000000e+00, 8.51095433e-01, 5.54323725e-04],\n",
       "        [0.00000000e+00, 8.49610100e-01, 5.54323725e-04],\n",
       "        [0.00000000e+00, 8.48124768e-01, 5.54323725e-04],\n",
       "        ...,\n",
       "        [0.00000000e+00, 5.07612328e-01, 5.54323725e-04],\n",
       "        [0.00000000e+00, 5.19866320e-01, 5.54323725e-04],\n",
       "        [0.00000000e+00, 5.31934645e-01, 5.54323725e-04]],\n",
       "\n",
       "       [[0.00000000e+00, 8.49610100e-01, 5.54323725e-04],\n",
       "        [0.00000000e+00, 8.48124768e-01, 5.54323725e-04],\n",
       "        [0.00000000e+00, 8.08577794e-01, 5.54323725e-04],\n",
       "        ...,\n",
       "        [0.00000000e+00, 5.19866320e-01, 5.54323725e-04],\n",
       "        [0.00000000e+00, 5.31934645e-01, 5.54323725e-04],\n",
       "        [0.00000000e+00, 5.81507612e-01, 5.54323725e-04]]])"
      ]
     },
     "execution_count": 18,
     "metadata": {},
     "output_type": "execute_result"
    }
   ],
   "source": [
    "X_Train"
   ]
  },
  {
   "cell_type": "code",
   "execution_count": 19,
   "metadata": {},
   "outputs": [
    {
     "name": "stderr",
     "output_type": "stream",
     "text": [
      "/home/bidur/anaconda3/lib/python3.7/site-packages/ipykernel_launcher.py:8: TqdmDeprecationWarning: This function will be removed in tqdm==5.0.0\n",
      "Please use `tqdm.notebook.tqdm` instead of `tqdm.tqdm_notebook`\n",
      "  \n"
     ]
    },
    {
     "data": {
      "application/vnd.jupyter.widget-view+json": {
       "model_id": "6263227435a347b59937c62b193d6308",
       "version_major": 2,
       "version_minor": 0
      },
      "text/plain": [
       "HBox(children=(FloatProgress(value=0.0, max=148415.0), HTML(value='')))"
      ]
     },
     "metadata": {},
     "output_type": "display_data"
    },
    {
     "name": "stdout",
     "output_type": "stream",
     "text": [
      "\n",
      "length of time-series i/o (148415, 19, 3) (148415,)\n"
     ]
    },
    {
     "data": {
      "application/vnd.jupyter.widget-view+json": {
       "model_id": "2a2c9d241ff64689bb1ff455923e9bc3",
       "version_major": 2,
       "version_minor": 0
      },
      "text/plain": [
       "HBox(children=(FloatProgress(value=0.0, max=37090.0), HTML(value='')))"
      ]
     },
     "metadata": {},
     "output_type": "display_data"
    },
    {
     "name": "stdout",
     "output_type": "stream",
     "text": [
      "\n",
      "length of time-series i/o (37090, 19, 3) (37090,)\n"
     ]
    }
   ],
   "source": [
    "#Building timeseries\n",
    "X_Train1, Y_Train1, Y_train_actual1 = timeseries(x_train_nor, y_train_nor, y_train_actual, time_steps=19, out_steps=1)\n",
    "X_Test1, Y_Test1, Y_test_actual1 = timeseries(x_test_nor, y_test_nor, y_test_actual, time_steps=19, out_steps=1)"
   ]
  },
  {
   "cell_type": "code",
   "execution_count": 20,
   "metadata": {},
   "outputs": [
    {
     "data": {
      "text/plain": [
       "148415"
      ]
     },
     "execution_count": 20,
     "metadata": {},
     "output_type": "execute_result"
    }
   ],
   "source": [
    "len(X_Train1)"
   ]
  },
  {
   "cell_type": "code",
   "execution_count": 22,
   "metadata": {},
   "outputs": [
    {
     "data": {
      "text/plain": [
       "(19, 3)"
      ]
     },
     "execution_count": 22,
     "metadata": {},
     "output_type": "execute_result"
    }
   ],
   "source": [
    "X_Train1[0].shape"
   ]
  },
  {
   "cell_type": "code",
   "execution_count": 23,
   "metadata": {},
   "outputs": [
    {
     "data": {
      "text/plain": [
       "array([[0.        , 0.87690308, 0.00277162],\n",
       "       [0.        , 0.82324545, 0.00277162],\n",
       "       [0.        , 0.76958782, 0.00277162],\n",
       "       [0.        , 0.71611586, 0.00277162],\n",
       "       [0.        , 0.6930932 , 0.00277162],\n",
       "       [0.        , 0.67007055, 0.00277162],\n",
       "       [0.        , 0.6470479 , 0.00277162],\n",
       "       [0.        , 0.63535091, 0.00277162],\n",
       "       [0.        , 0.62346825, 0.00277162],\n",
       "       [0.        , 0.61158559, 0.00277162],\n",
       "       [0.        , 0.6032306 , 0.00277162],\n",
       "       [0.        , 0.59468994, 0.00277162],\n",
       "       [0.        , 0.58633494, 0.00277162],\n",
       "       [0.        , 0.58206461, 0.00277162],\n",
       "       [0.        , 0.57797995, 0.00277162],\n",
       "       [0.        , 0.57370962, 0.00277162],\n",
       "       [0.        , 0.63943557, 0.00277162],\n",
       "       [0.        , 0.70497586, 0.00277162],\n",
       "       [0.        , 0.77070182, 0.00221729]])"
      ]
     },
     "execution_count": 23,
     "metadata": {},
     "output_type": "execute_result"
    }
   ],
   "source": [
    "X_Train1[0]"
   ]
  },
  {
   "cell_type": "code",
   "execution_count": 25,
   "metadata": {},
   "outputs": [
    {
     "data": {
      "text/plain": [
       "0.0022172949002217295"
      ]
     },
     "execution_count": 25,
     "metadata": {},
     "output_type": "execute_result"
    }
   ],
   "source": [
    "X_Train1[0][18][2]"
   ]
  },
  {
   "cell_type": "code",
   "execution_count": 26,
   "metadata": {},
   "outputs": [],
   "source": [
    "X_Train1[0][18][2] = 3"
   ]
  },
  {
   "cell_type": "code",
   "execution_count": 27,
   "metadata": {},
   "outputs": [
    {
     "data": {
      "text/plain": [
       "array([[0.00000000e+00, 8.76903082e-01, 2.77161863e-03],\n",
       "       [0.00000000e+00, 8.23245451e-01, 2.77161863e-03],\n",
       "       [0.00000000e+00, 7.69587820e-01, 2.77161863e-03],\n",
       "       [0.00000000e+00, 7.16115856e-01, 2.77161863e-03],\n",
       "       [0.00000000e+00, 6.93093205e-01, 2.77161863e-03],\n",
       "       [0.00000000e+00, 6.70070553e-01, 2.77161863e-03],\n",
       "       [0.00000000e+00, 6.47047902e-01, 2.77161863e-03],\n",
       "       [0.00000000e+00, 6.35350910e-01, 2.77161863e-03],\n",
       "       [0.00000000e+00, 6.23468251e-01, 2.77161863e-03],\n",
       "       [0.00000000e+00, 6.11585592e-01, 2.77161863e-03],\n",
       "       [0.00000000e+00, 6.03230598e-01, 2.77161863e-03],\n",
       "       [0.00000000e+00, 5.94689937e-01, 2.77161863e-03],\n",
       "       [0.00000000e+00, 5.86334942e-01, 2.77161863e-03],\n",
       "       [0.00000000e+00, 5.82064612e-01, 2.77161863e-03],\n",
       "       [0.00000000e+00, 5.77979948e-01, 2.77161863e-03],\n",
       "       [0.00000000e+00, 5.73709618e-01, 2.77161863e-03],\n",
       "       [0.00000000e+00, 6.39435574e-01, 2.77161863e-03],\n",
       "       [0.00000000e+00, 7.04975863e-01, 2.77161863e-03],\n",
       "       [0.00000000e+00, 7.70701820e-01, 3.00000000e+00]])"
      ]
     },
     "execution_count": 27,
     "metadata": {},
     "output_type": "execute_result"
    }
   ],
   "source": [
    "X_Train1[0]"
   ]
  },
  {
   "cell_type": "code",
   "execution_count": 21,
   "metadata": {},
   "outputs": [],
   "source": [
    "ab = np.random.randint(1,20,(7,3))"
   ]
  },
  {
   "cell_type": "code",
   "execution_count": 22,
   "metadata": {},
   "outputs": [
    {
     "data": {
      "text/plain": [
       "array([[15, 10, 10],\n",
       "       [11,  8, 19],\n",
       "       [ 7,  8,  8],\n",
       "       [ 7, 12,  2],\n",
       "       [15,  3,  4],\n",
       "       [ 3,  8,  9],\n",
       "       [ 5,  4, 17]])"
      ]
     },
     "execution_count": 22,
     "metadata": {},
     "output_type": "execute_result"
    }
   ],
   "source": [
    "ab"
   ]
  },
  {
   "cell_type": "code",
   "execution_count": 25,
   "metadata": {},
   "outputs": [
    {
     "data": {
      "text/plain": [
       "array([15, 12, 19])"
      ]
     },
     "execution_count": 25,
     "metadata": {},
     "output_type": "execute_result"
    }
   ],
   "source": [
    "np.max(ab,axis=0)"
   ]
  },
  {
   "cell_type": "code",
   "execution_count": 26,
   "metadata": {},
   "outputs": [],
   "source": [
    "a = np.array([-8.8274793e-04,  1.7872620e+01, -1.8418502e+00])"
   ]
  },
  {
   "cell_type": "code",
   "execution_count": 27,
   "metadata": {},
   "outputs": [
    {
     "data": {
      "text/plain": [
       "-1.8418502"
      ]
     },
     "execution_count": 27,
     "metadata": {},
     "output_type": "execute_result"
    }
   ],
   "source": [
    "a[2]"
   ]
  },
  {
   "cell_type": "code",
   "execution_count": null,
   "metadata": {},
   "outputs": [],
   "source": []
  }
 ],
 "metadata": {
  "kernelspec": {
   "display_name": "Python 3",
   "language": "python",
   "name": "python3"
  },
  "language_info": {
   "codemirror_mode": {
    "name": "ipython",
    "version": 3
   },
   "file_extension": ".py",
   "mimetype": "text/x-python",
   "name": "python",
   "nbconvert_exporter": "python",
   "pygments_lexer": "ipython3",
   "version": "3.7.6"
  }
 },
 "nbformat": 4,
 "nbformat_minor": 4
}
