{
 "cells": [
  {
   "cell_type": "code",
   "execution_count": 1,
   "metadata": {},
   "outputs": [],
   "source": [
    "import os\n",
    "import pandas as pd\n",
    "import tqdm\n",
    "from tqdm import tqdm_notebook\n",
    "import numpy as np\n",
    "from matplotlib import pyplot as plt\n",
    "from sklearn.preprocessing import MinMaxScaler\n",
    "from sklearn.model_selection import train_test_split\n",
    "from sklearn.metrics import mean_squared_error\n",
    "from keras.models import Sequential,load_model\n",
    "from keras.layers import LSTM, Dense\n",
    "from keras.layers import Dropout, Activation, Flatten\n",
    "from keras.optimizers import SGD"
   ]
  },
  {
   "cell_type": "code",
   "execution_count": 2,
   "metadata": {},
   "outputs": [
    {
     "name": "stdout",
     "output_type": "stream",
     "text": [
      "           Year  Month  Day    Hours  Precipitation  Temperature  Outflow\n",
      "Dates                                                                    \n",
      "10/1/1980  1980     10    1  0:00:00            0.0      102.992      5.0\n",
      "10/1/1980  1980     10    1  1:00:00            0.0       97.790      5.0\n",
      "10/1/1980  1980     10    1  2:00:00            0.0       92.588      5.0\n",
      "10/1/1980  1980     10    1  3:00:00            0.0       87.404      5.0\n",
      "10/1/1980  1980     10    1  4:00:00            0.0       85.172      5.0\n"
     ]
    }
   ],
   "source": [
    "df_ge = pd.read_csv( \"Sub0-RAW.csv\", index_col=0)\n",
    "print(df_ge.head())"
   ]
  },
  {
   "cell_type": "code",
   "execution_count": 3,
   "metadata": {},
   "outputs": [
    {
     "data": {
      "text/plain": [
       "'\\nplt.figure()\\nplt.plot(df_ge[\"Open\"])\\nplt.plot(df_ge[\"High\"])\\nplt.plot(df_ge[\"Low\"])\\nplt.plot(df_ge[\"Close\"])\\nplt.title(\\'GE stock price history\\')\\nplt.ylabel(\\'Price (USD)\\')\\nplt.xlabel(\\'Days\\')\\nplt.legend([\\'Open\\',\\'High\\',\\'Low\\',\\'Close\\'], loc=\\'upper left\\')\\nplt.show()\\n'"
      ]
     },
     "execution_count": 3,
     "metadata": {},
     "output_type": "execute_result"
    }
   ],
   "source": [
    "'''\n",
    "plt.figure()\n",
    "plt.plot(df_ge[\"Open\"])\n",
    "plt.plot(df_ge[\"High\"])\n",
    "plt.plot(df_ge[\"Low\"])\n",
    "plt.plot(df_ge[\"Close\"])\n",
    "plt.title('GE stock price history')\n",
    "plt.ylabel('Price (USD)')\n",
    "plt.xlabel('Days')\n",
    "plt.legend(['Open','High','Low','Close'], loc='upper left')\n",
    "plt.show()\n",
    "'''"
   ]
  },
  {
   "cell_type": "code",
   "execution_count": 4,
   "metadata": {},
   "outputs": [
    {
     "data": {
      "text/plain": [
       "'\\nplt.figure()\\nplt.plot(df_ge[\"Volume\"])\\nplt.title(\\'GE stock volume history\\')\\nplt.ylabel(\\'Volume\\')\\nplt.xlabel(\\'Days\\')\\nplt.show()\\n'"
      ]
     },
     "execution_count": 4,
     "metadata": {},
     "output_type": "execute_result"
    }
   ],
   "source": [
    "'''\n",
    "plt.figure()\n",
    "plt.plot(df_ge[\"Volume\"])\n",
    "plt.title('GE stock volume history')\n",
    "plt.ylabel('Volume')\n",
    "plt.xlabel('Days')\n",
    "plt.show()\n",
    "'''"
   ]
  },
  {
   "cell_type": "code",
   "execution_count": 5,
   "metadata": {},
   "outputs": [
    {
     "name": "stdout",
     "output_type": "stream",
     "text": [
      "checking if any null values are present\n",
      " Year              0\n",
      "Month             0\n",
      "Day               0\n",
      "Hours            21\n",
      "Precipitation     0\n",
      "Temperature       0\n",
      "Outflow           0\n",
      "dtype: int64\n"
     ]
    }
   ],
   "source": [
    "print(\"checking if any null values are present\\n\", df_ge.isna().sum())"
   ]
  },
  {
   "cell_type": "code",
   "execution_count": 6,
   "metadata": {},
   "outputs": [
    {
     "name": "stdout",
     "output_type": "stream",
     "text": [
      "Train and Test size 148435 37109\n"
     ]
    }
   ],
   "source": [
    "### In the complete code we can chnage parameters in two cells one is here with respect to data and second one in the Neural network cell where\n",
    "### we chnage the parameters for the neural network like epochs and batch size \n",
    "\n",
    "### Coloumns required for the input data can remove coloumns if need less number of features \n",
    "#train_cols = [\"Open\",\"High\",\"Low\",\"Close\",\"Volume\"]\n",
    "train_cols = [\"Precipitation\",\"Temperature\",\"Outflow\"]\n",
    "#train_cols = [\"Temperature\",\"Outflow\"]\n",
    "label_cols = [\"Outflow\"]\n",
    "\n",
    "#### Number of timesteps required \n",
    "TIME_STEPS = 18\n",
    "\n",
    "df_train, df_test = train_test_split(df_ge, train_size=0.8, test_size=0.2, shuffle=False)\n",
    "print(\"Train and Test size\", len(df_train), len(df_test))\n"
   ]
  },
  {
   "cell_type": "code",
   "execution_count": 7,
   "metadata": {},
   "outputs": [
    {
     "name": "stdout",
     "output_type": "stream",
     "text": [
      "[[  0.    102.992   5.   ]\n",
      " [  0.     97.79    5.   ]\n",
      " [  0.     92.588   5.   ]\n",
      " ...\n",
      " [  0.     74.354   1.   ]\n",
      " [  0.     79.142   1.   ]\n",
      " [  0.     83.948   1.   ]]\n"
     ]
    }
   ],
   "source": [
    "# Loading training data into X\n",
    "x = df_train.loc[:,train_cols].values\n",
    "#noise=abs((np.random.rand(x.shape[0],x.shape[1]) )*10)\n",
    "#x = x + noise\n",
    "y = df_train.loc[:,label_cols].values\n",
    "\n",
    "x_train=x\n",
    "y_train=y\n",
    "x_test = df_test.loc[:,train_cols].values\n",
    "y_test = df_test.loc[:,label_cols].values\n",
    "print(x_train)"
   ]
  },
  {
   "cell_type": "code",
   "execution_count": 8,
   "metadata": {},
   "outputs": [],
   "source": [
    "def build_timeseries(mat, y_label,y_label_Actual, TIME_STEPS):\n",
    "    # y_col_index is the index of column that would act as output column\n",
    "    # total number of time-series samples would be len(mat) - TIME_STEPS\n",
    "    dim_0 = mat.shape[0] - TIME_STEPS\n",
    "    dim_1 = mat.shape[1]\n",
    "    x = np.zeros((dim_0, TIME_STEPS, dim_1))\n",
    "    y = np.zeros((dim_0,))\n",
    "    y_Actual = np.zeros((dim_0,))\n",
    "    \n",
    "    for i in tqdm_notebook(range(dim_0)):\n",
    "        x[i] = mat[i:TIME_STEPS+i]\n",
    "        y[i] =y_label[TIME_STEPS+i, 0]\n",
    "        y_Actual[i] =y_label_Actual[TIME_STEPS+i, 0]\n",
    "    print(\"length of time-series i/o\",x.shape,y.shape)\n",
    "    return x, y, y_Actual"
   ]
  },
  {
   "cell_type": "code",
   "execution_count": 9,
   "metadata": {},
   "outputs": [
    {
     "name": "stderr",
     "output_type": "stream",
     "text": [
      "/home/bidur/anaconda3/lib/python3.7/site-packages/ipykernel_launcher.py:10: TqdmDeprecationWarning: This function will be removed in tqdm==5.0.0\n",
      "Please use `tqdm.notebook.tqdm` instead of `tqdm.tqdm_notebook`\n",
      "  # Remove the CWD from sys.path while we load stuff.\n"
     ]
    },
    {
     "data": {
      "application/vnd.jupyter.widget-view+json": {
       "model_id": "483791333ddd48d59afec0f87eb03cdb",
       "version_major": 2,
       "version_minor": 0
      },
      "text/plain": [
       "HBox(children=(FloatProgress(value=0.0, max=148417.0), HTML(value='')))"
      ]
     },
     "metadata": {},
     "output_type": "display_data"
    },
    {
     "name": "stdout",
     "output_type": "stream",
     "text": [
      "\n",
      "length of time-series i/o (148417, 18, 3) (148417,)\n"
     ]
    },
    {
     "name": "stderr",
     "output_type": "stream",
     "text": [
      "/home/bidur/anaconda3/lib/python3.7/site-packages/ipykernel_launcher.py:10: TqdmDeprecationWarning: This function will be removed in tqdm==5.0.0\n",
      "Please use `tqdm.notebook.tqdm` instead of `tqdm.tqdm_notebook`\n",
      "  # Remove the CWD from sys.path while we load stuff.\n"
     ]
    },
    {
     "data": {
      "application/vnd.jupyter.widget-view+json": {
       "model_id": "c8f7e0b2ca864aef97bc7571537a3fb7",
       "version_major": 2,
       "version_minor": 0
      },
      "text/plain": [
       "HBox(children=(FloatProgress(value=0.0, max=37091.0), HTML(value='')))"
      ]
     },
     "metadata": {},
     "output_type": "display_data"
    },
    {
     "name": "stdout",
     "output_type": "stream",
     "text": [
      "\n",
      "length of time-series i/o (37091, 18, 3) (37091,)\n"
     ]
    }
   ],
   "source": [
    "\n",
    "# Min Max scalr normalizing\n",
    "# Parameters for normalizing the training data\n",
    "min_max_scaler_X_Train = MinMaxScaler(feature_range = (0, 1))\n",
    "min_max_scaler_Y_Train = MinMaxScaler(feature_range = (0, 1))\n",
    "\n",
    "# Parameters for normalizing the testing data\n",
    "min_max_scaler_X_Test = MinMaxScaler(feature_range = (0, 1))\n",
    "min_max_scaler_Y_Test = MinMaxScaler(feature_range = (0, 1))\n",
    "\n",
    "\n",
    "# Normalizing Data Training Data\n",
    "x_train_Nor  = min_max_scaler_X_Train.fit_transform(x_train)\n",
    "y_train_Nor  = min_max_scaler_Y_Train.fit_transform(y_train)\n",
    "\n",
    "# Converting the data into timeseries \n",
    "X_Train, Y_Train, Y_Train_Actual = build_timeseries(x_train_Nor, y_train_Nor,y_train,TIME_STEPS)\n",
    "\n",
    "# Normalizing Validation  Data\n",
    "x_test_Nor =  min_max_scaler_X_Test.fit_transform(x_test)\n",
    "y_test_Nor  = min_max_scaler_Y_Test.fit_transform(y_test)\n",
    "\n",
    "# Converting the data into timeseries \n",
    "X_Val, Y_Val,Y_Val_Actual = build_timeseries(x_test_Nor,y_test_Nor, y_test, TIME_STEPS)"
   ]
  },
  {
   "cell_type": "code",
   "execution_count": 10,
   "metadata": {},
   "outputs": [
    {
     "data": {
      "text/plain": [
       "((148417, 18, 3), (148417,))"
      ]
     },
     "execution_count": 10,
     "metadata": {},
     "output_type": "execute_result"
    }
   ],
   "source": [
    "X_Train.shape, Y_Train.shape"
   ]
  },
  {
   "cell_type": "code",
   "execution_count": 11,
   "metadata": {},
   "outputs": [
    {
     "name": "stdout",
     "output_type": "stream",
     "text": [
      "Epoch 1/10\n",
      "4639/4639 [==============================] - 53s 12ms/step - loss: 1.1176e-04 - accuracy: 0.3189 - val_loss: 4.2822e-05 - val_accuracy: 0.3710\n",
      "Epoch 2/10\n",
      "4639/4639 [==============================] - 53s 11ms/step - loss: 3.7820e-05 - accuracy: 0.3189 - val_loss: 1.5080e-05 - val_accuracy: 0.3710\n",
      "Epoch 3/10\n",
      "4639/4639 [==============================] - 51s 11ms/step - loss: 2.6949e-05 - accuracy: 0.3189 - val_loss: 1.5464e-05 - val_accuracy: 0.3710\n",
      "Epoch 4/10\n",
      "4639/4639 [==============================] - 52s 11ms/step - loss: 2.5143e-05 - accuracy: 0.3189 - val_loss: 1.0824e-05 - val_accuracy: 0.3710\n",
      "Epoch 5/10\n",
      "4639/4639 [==============================] - 52s 11ms/step - loss: 2.0566e-05 - accuracy: 0.3189 - val_loss: 1.7607e-05 - val_accuracy: 0.3710\n",
      "Epoch 6/10\n",
      "4639/4639 [==============================] - 52s 11ms/step - loss: 1.9664e-05 - accuracy: 0.3189 - val_loss: 5.3321e-06 - val_accuracy: 0.3710\n",
      "Epoch 7/10\n",
      "4639/4639 [==============================] - 53s 11ms/step - loss: 2.0011e-05 - accuracy: 0.3189 - val_loss: 1.1484e-05 - val_accuracy: 0.3710\n",
      "Epoch 8/10\n",
      "4639/4639 [==============================] - 52s 11ms/step - loss: 1.7738e-05 - accuracy: 0.3189 - val_loss: 9.3069e-06 - val_accuracy: 0.3710\n",
      "Epoch 9/10\n",
      "4639/4639 [==============================] - 52s 11ms/step - loss: 1.7207e-05 - accuracy: 0.3189 - val_loss: 9.9786e-06 - val_accuracy: 0.3710\n",
      "Epoch 10/10\n",
      "4639/4639 [==============================] - 53s 11ms/step - loss: 1.7529e-05 - accuracy: 0.3189 - val_loss: 6.9723e-06 - val_accuracy: 0.3710\n",
      "Model: \"sequential\"\n",
      "_________________________________________________________________\n",
      "Layer (type)                 Output Shape              Param #   \n",
      "=================================================================\n",
      "lstm (LSTM)                  (None, 18, 24)            2688      \n",
      "_________________________________________________________________\n",
      "dropout (Dropout)            (None, 18, 24)            0         \n",
      "_________________________________________________________________\n",
      "lstm_1 (LSTM)                (None, 50)                15000     \n",
      "_________________________________________________________________\n",
      "dropout_1 (Dropout)          (None, 50)                0         \n",
      "_________________________________________________________________\n",
      "dense (Dense)                (None, 20)                1020      \n",
      "_________________________________________________________________\n",
      "dense_1 (Dense)              (None, 1)                 21        \n",
      "=================================================================\n",
      "Total params: 18,729\n",
      "Trainable params: 18,729\n",
      "Non-trainable params: 0\n",
      "_________________________________________________________________\n"
     ]
    }
   ],
   "source": [
    "# Initialising the RNN\n",
    "model = Sequential()\n",
    "# Adding the first LSTM layer and some Dropout regularisation\n",
    "model.add(LSTM(24, return_sequences=True,\n",
    "               input_shape=(X_Train.shape[1], X_Train.shape[2])))  # returns a sequence of vectors of dimension 64\n",
    "model.add(Dropout(0.2))\n",
    "\n",
    "# Adding a second LSTM layer and some Dropout regularisation\n",
    "model.add(LSTM(units = 50))\n",
    "model.add(Dropout(0.2))\n",
    "\n",
    "# Adding a Dense layer and some Dropout regularisation\n",
    "model.add(Dense(20,activation='relu'))\n",
    "\n",
    "\n",
    "# Adding the output layer\n",
    "\n",
    "model.add(Dense(1, activation=\"linear\"))\n",
    "\n",
    "\n",
    "\n",
    "\n",
    "model.compile(optimizer = 'adam', loss = 'mean_squared_error',metrics=['accuracy'])\n",
    "# Number of epochs and Batch Sizes can be change \n",
    "history=model.fit(X_Train, Y_Train,\n",
    "           epochs=10,\n",
    "          validation_data=(X_Val, Y_Val))\n",
    "# Model summary for number of parameters use in the algorithm \n",
    "model.summary()"
   ]
  },
  {
   "cell_type": "code",
   "execution_count": 12,
   "metadata": {},
   "outputs": [],
   "source": [
    "weights = model.get_weights()"
   ]
  },
  {
   "cell_type": "code",
   "execution_count": 13,
   "metadata": {},
   "outputs": [
    {
     "data": {
      "text/plain": [
       "[(3, 96),\n",
       " (24, 96),\n",
       " (96,),\n",
       " (24, 200),\n",
       " (50, 200),\n",
       " (200,),\n",
       " (50, 20),\n",
       " (20,),\n",
       " (20, 1),\n",
       " (1,)]"
      ]
     },
     "execution_count": 13,
     "metadata": {},
     "output_type": "execute_result"
    }
   ],
   "source": [
    "[weights[i].shape for i in range(len(weights))]"
   ]
  },
  {
   "cell_type": "code",
   "execution_count": 14,
   "metadata": {},
   "outputs": [
    {
     "data": {
      "text/plain": [
       "(148417, 18, 3)"
      ]
     },
     "execution_count": 14,
     "metadata": {},
     "output_type": "execute_result"
    }
   ],
   "source": [
    "X_Train.shape"
   ]
  },
  {
   "cell_type": "code",
   "execution_count": 15,
   "metadata": {},
   "outputs": [
    {
     "data": {
      "text/plain": [
       "(array([[0.        , 0.87690308, 0.00277162],\n",
       "        [0.        , 0.82324545, 0.00277162],\n",
       "        [0.        , 0.76958782, 0.00277162],\n",
       "        [0.        , 0.71611586, 0.00277162],\n",
       "        [0.        , 0.6930932 , 0.00277162],\n",
       "        [0.        , 0.67007055, 0.00277162],\n",
       "        [0.        , 0.6470479 , 0.00277162],\n",
       "        [0.        , 0.63535091, 0.00277162],\n",
       "        [0.        , 0.62346825, 0.00277162],\n",
       "        [0.        , 0.61158559, 0.00277162],\n",
       "        [0.        , 0.6032306 , 0.00277162],\n",
       "        [0.        , 0.59468994, 0.00277162],\n",
       "        [0.        , 0.58633494, 0.00277162],\n",
       "        [0.        , 0.58206461, 0.00277162],\n",
       "        [0.        , 0.57797995, 0.00277162],\n",
       "        [0.        , 0.57370962, 0.00277162],\n",
       "        [0.        , 0.63943557, 0.00277162],\n",
       "        [0.        , 0.70497586, 0.00277162]]),\n",
       " 0.0022172949002217295)"
      ]
     },
     "execution_count": 15,
     "metadata": {},
     "output_type": "execute_result"
    }
   ],
   "source": [
    "X_Train[0], Y_Train[0]"
   ]
  },
  {
   "cell_type": "code",
   "execution_count": 16,
   "metadata": {},
   "outputs": [
    {
     "ename": "SyntaxError",
     "evalue": "unexpected EOF while parsing (<ipython-input-16-aaae4485d66a>, line 8)",
     "output_type": "error",
     "traceback": [
      "\u001b[0;36m  File \u001b[0;32m\"<ipython-input-16-aaae4485d66a>\"\u001b[0;36m, line \u001b[0;32m8\u001b[0m\n\u001b[0;31m    [0.        , 0.63535091, 0.00277162]]),\u001b[0m\n\u001b[0m                                           ^\u001b[0m\n\u001b[0;31mSyntaxError\u001b[0m\u001b[0;31m:\u001b[0m unexpected EOF while parsing\n"
     ]
    }
   ],
   "source": []
  },
  {
   "cell_type": "code",
   "execution_count": 18,
   "metadata": {},
   "outputs": [
    {
     "data": {
      "image/png": "[encoded data removed]",
      "text/plain": [
       "<Figure size 432x288 with 1 Axes>"
      ]
     },
     "metadata": {
      "needs_background": "light"
     },
     "output_type": "display_data"
    },
    {
     "data": {
      "image/png": "[encoded data removed]",
      "text/plain": [
       "<Figure size 432x288 with 1 Axes>"
      ]
     },
     "metadata": {
      "needs_background": "light"
     },
     "output_type": "display_data"
    }
   ],
   "source": [
    "plt.plot(history.history['accuracy'])\n",
    "plt.plot(history.history['val_accuracy'])\n",
    "plt.title('model accuracy')\n",
    "plt.ylabel('accuracy')\n",
    "plt.xlabel('epoch')\n",
    "plt.legend(['train', 'Val'], loc='upper left')\n",
    "plt.show()\n",
    "\n",
    "plt.plot(history.history['loss'])\n",
    "plt.plot(history.history['val_loss'])\n",
    "plt.title('model loss')\n",
    "plt.ylabel('loss')\n",
    "plt.xlabel('epoch')\n",
    "plt.legend(['train', 'Val'], loc='upper left')\n",
    "plt.show()\n"
   ]
  },
  {
   "cell_type": "code",
   "execution_count": 13,
   "metadata": {},
   "outputs": [],
   "source": [
    "model.save('my_model_MIN_MAX_InBuilt_Normalization.hdf5')\n"
   ]
  },
  {
   "cell_type": "code",
   "execution_count": 19,
   "metadata": {},
   "outputs": [
    {
     "name": "stdout",
     "output_type": "stream",
     "text": [
      "[[1.8537222]] 1.0\n",
      "[[1.8537222]] 1.0\n",
      "[[1.8537222]] 1.0\n",
      "[[1.8537222]] 1.0\n",
      "[[1.8537222]] 1.0\n",
      "[[1.8537222]] 1.0\n",
      "[[1.8537222]] 1.0\n",
      "[[1.8537222]] 1.0\n",
      "[[1.8537222]] 1.0\n",
      "[[1.8537222]] 1.0\n",
      "[[1.8537222]] 1.0\n",
      "[[1.8537222]] 1.0\n",
      "[[1.8537222]] 1.0\n",
      "[[1.8537222]] 1.0\n",
      "[[1.8537222]] 1.0\n",
      "[[1.8537222]] 1.0\n",
      "[[1.8537222]] 1.0\n",
      "[[1.8537222]] 1.0\n",
      "[[1.8537222]] 1.0\n",
      "[[1.8537222]] 1.0\n",
      "[[1.8537222]] 1.0\n",
      "[[1.8537222]] 1.0\n",
      "[[1.8537222]] 1.0\n",
      "[[1.8537222]] 1.0\n",
      "[[1.8537222]] 1.0\n",
      "[[1.8537222]] 1.0\n",
      "[[1.8537222]] 1.0\n",
      "[[1.8537222]] 1.0\n",
      "[[1.8537222]] 1.0\n",
      "[[1.8537222]] 1.0\n",
      "[[1.8537222]] 1.0\n",
      "[[1.8537222]] 1.0\n",
      "[[1.8537222]] 1.0\n",
      "[[1.8537222]] 1.0\n",
      "[[1.8537222]] 1.0\n",
      "[[1.8537222]] 1.0\n",
      "[[1.8537222]] 1.0\n",
      "[[1.8537222]] 1.0\n",
      "[[1.8537222]] 1.0\n",
      "[[1.8537222]] 1.0\n",
      "[[1.8537222]] 1.0\n",
      "[[1.8537222]] 1.0\n",
      "[[1.8537222]] 1.0\n",
      "[[1.8537222]] 1.0\n",
      "[[1.8537222]] 1.0\n",
      "[[1.8537222]] 1.0\n",
      "[[1.8537222]] 1.0\n",
      "[[1.8537222]] 1.0\n",
      "[[1.8537222]] 1.0\n",
      "[[1.8537222]] 1.0\n",
      "[[1.8537222]] 1.0\n",
      "[[1.8537222]] 1.0\n",
      "[[1.8537222]] 1.0\n",
      "[[1.8537222]] 1.0\n",
      "[[1.8537222]] 1.0\n",
      "[[1.8537222]] 1.0\n",
      "[[1.8537222]] 1.0\n",
      "[[1.8537222]] 1.0\n",
      "[[1.8537222]] 1.0\n",
      "[[1.8537222]] 1.0\n",
      "[[1.8537222]] 1.0\n",
      "[[1.8537222]] 1.0\n",
      "[[1.8537222]] 1.0\n",
      "[[1.8537222]] 1.0\n",
      "[[1.8537222]] 1.0\n",
      "[[1.8537222]] 1.0\n",
      "[[1.8537222]] 1.0\n",
      "[[1.8537222]] 1.0\n",
      "[[1.8537222]] 1.0\n",
      "[[1.8537222]] 1.0\n",
      "[[1.8537222]] 1.0\n",
      "[[1.8537222]] 1.0\n",
      "[[1.8537222]] 1.0\n",
      "[[1.8537222]] 1.0\n",
      "[[1.8537222]] 1.0\n",
      "[[1.8537222]] 1.0\n",
      "[[1.8537222]] 1.0\n",
      "[[1.8537222]] 1.0\n",
      "[[1.8537222]] 1.0\n",
      "[[1.8537222]] 1.0\n",
      "[[1.8537222]] 1.0\n",
      "[[1.8537222]] 1.0\n",
      "[[1.8537222]] 1.0\n",
      "[[1.8537222]] 1.0\n",
      "[[1.8537222]] 1.0\n",
      "[[1.8537222]] 1.0\n",
      "[[1.8537222]] 1.0\n",
      "[[1.8537222]] 1.0\n",
      "[[1.8537222]] 1.0\n",
      "[[1.8537222]] 1.0\n",
      "[[1.8537222]] 1.0\n",
      "[[1.8537222]] 1.0\n",
      "[[1.8537222]] 1.0\n",
      "[[1.8537222]] 1.0\n",
      "[[1.8537222]] 1.0\n",
      "[[1.8537222]] 1.0\n",
      "[[1.8537222]] 1.0\n",
      "[[1.8537222]] 1.0\n",
      "[[1.8537222]] 1.0\n",
      "[[1.8537222]] 1.0\n"
     ]
    }
   ],
   "source": [
    "#print(model.predict(X_Val)\n",
    "\n",
    "x_buffer = np.zeros((1,X_Train.shape[1], X_Train.shape[2]))\n",
    "#model.predict(X_Val)\n",
    "for i in range(100):\n",
    "    x_buffer[0,:] = X_Val[i,:]\n",
    "    print(min_max_scaler_Y_Train.inverse_transform(model.predict( x_buffer)),Y_Val_Actual[i])\n",
    "   \n"
   ]
  },
  {
   "cell_type": "code",
   "execution_count": 20,
   "metadata": {},
   "outputs": [
    {
     "data": {
      "text/plain": [
       "array([[ 1.8537222],\n",
       "       [ 1.8537222],\n",
       "       [ 1.8537222],\n",
       "       ...,\n",
       "       [17.16408  ],\n",
       "       [20.086601 ],\n",
       "       [25.822714 ]], dtype=float32)"
      ]
     },
     "execution_count": 20,
     "metadata": {},
     "output_type": "execute_result"
    }
   ],
   "source": [
    "predict =min_max_scaler_Y_Train.inverse_transform( model.predict(X_Val))\n",
    "\n",
    "predict"
   ]
  },
  {
   "cell_type": "code",
   "execution_count": 21,
   "metadata": {},
   "outputs": [
    {
     "data": {
      "image/png": "[encoded data removed]",
      "text/plain": [
       "<Figure size 432x288 with 1 Axes>"
      ]
     },
     "metadata": {
      "needs_background": "light"
     },
     "output_type": "display_data"
    }
   ],
   "source": [
    "plt.figure()\n",
    "plt.plot((predict))\n",
    "plt.plot(Y_Val_Actual)\n",
    "\n",
    "plt.title('GE stock price prediction')\n",
    "plt.ylabel('Price (USD)')\n",
    "plt.xlabel('Days')\n",
    "plt.legend(['predict','Actual'], loc='upper left')\n",
    "\n",
    "plt.savefig(\"figurelinearFeedforward.jpg\")\n",
    "plt.show()"
   ]
  },
  {
   "cell_type": "code",
   "execution_count": 22,
   "metadata": {},
   "outputs": [
    {
     "data": {
      "image/png": "[encoded data removed]",
      "text/plain": [
       "<Figure size 432x288 with 1 Axes>"
      ]
     },
     "metadata": {
      "needs_background": "light"
     },
     "output_type": "display_data"
    }
   ],
   "source": [
    "plt.figure()\n",
    "plt.plot((predict))\n",
    "\n",
    "\n",
    "plt.title('GE stock price prediction')\n",
    "plt.ylabel('Price (USD)')\n",
    "plt.xlabel('Days')\n",
    "plt.legend(['predict'], loc='upper left')\n",
    "\n",
    "#plt.savefig(\"figurelinearFeedforward.jpg\")\n",
    "plt.show()"
   ]
  },
  {
   "cell_type": "code",
   "execution_count": 18,
   "metadata": {},
   "outputs": [
    {
     "data": {
      "image/png": "[encoded data removed]",
      "text/plain": [
       "<Figure size 432x288 with 1 Axes>"
      ]
     },
     "metadata": {
      "needs_background": "light"
     },
     "output_type": "display_data"
    }
   ],
   "source": [
    "plt.figure()\n",
    "\n",
    "plt.plot(Y_Val_Actual)\n",
    "\n",
    "plt.title('GE stock price prediction')\n",
    "plt.ylabel('Price (USD)')\n",
    "plt.xlabel('Days')\n",
    "plt.legend(['Actual'], loc='upper left')\n",
    "\n",
    "plt.savefig(\"figurelinearFeedforward.jpg\")\n",
    "plt.show()"
   ]
  },
  {
   "cell_type": "code",
   "execution_count": 19,
   "metadata": {},
   "outputs": [
    {
     "data": {
      "text/plain": [
       "208.19845888819628"
      ]
     },
     "execution_count": 19,
     "metadata": {},
     "output_type": "execute_result"
    }
   ],
   "source": [
    "mean_square_root = mean_squared_error(predict, Y_Val_Actual)\n",
    "mean_square_root"
   ]
  },
  {
   "cell_type": "code",
   "execution_count": 20,
   "metadata": {},
   "outputs": [
    {
     "data": {
      "text/plain": [
       "14.429083785472876"
      ]
     },
     "execution_count": 20,
     "metadata": {},
     "output_type": "execute_result"
    }
   ],
   "source": [
    "square_root=np.sqrt(mean_square_root)\n",
    "square_root"
   ]
  },
  {
   "cell_type": "code",
   "execution_count": 23,
   "metadata": {},
   "outputs": [
    {
     "data": {
      "text/plain": [
       "array([1767.9642], dtype=float32)"
      ]
     },
     "execution_count": 23,
     "metadata": {},
     "output_type": "execute_result"
    }
   ],
   "source": [
    "max(predict)"
   ]
  },
  {
   "cell_type": "code",
   "execution_count": 24,
   "metadata": {},
   "outputs": [
    {
     "data": {
      "text/plain": [
       "1920.0"
      ]
     },
     "execution_count": 24,
     "metadata": {},
     "output_type": "execute_result"
    }
   ],
   "source": [
    "max(Y_Val_Actual)"
   ]
  },
  {
   "cell_type": "code",
   "execution_count": 27,
   "metadata": {},
   "outputs": [
    {
     "data": {
      "text/plain": [
       "(array([129.14354], dtype=float32), 131.0)"
      ]
     },
     "execution_count": 27,
     "metadata": {},
     "output_type": "execute_result"
    }
   ],
   "source": [
    "predict[3000], Y_Val_Actual[3000]"
   ]
  },
  {
   "cell_type": "code",
   "execution_count": null,
   "metadata": {},
   "outputs": [],
   "source": []
  }
 ],
 "metadata": {
  "kernelspec": {
   "display_name": "Python 2",
   "language": "python",
   "name": "python2"
  },
  "language_info": {
   "codemirror_mode": {
    "name": "ipython",
    "version": 3
   },
   "file_extension": ".py",
   "mimetype": "text/x-python",
   "name": "python",
   "nbconvert_exporter": "python",
   "pygments_lexer": "ipython3",
   "version": "3.7.6"
  }
 },
 "nbformat": 4,
 "nbformat_minor": 2
}
