{
 "cells": [
  {
   "cell_type": "code",
   "execution_count": 1,
   "metadata": {},
   "outputs": [
    {
     "name": "stderr",
     "output_type": "stream",
     "text": [
      "Using TensorFlow backend.\n"
     ]
    }
   ],
   "source": [
    "import os\n",
    "import pandas as pd\n",
    "import tqdm\n",
    "from tqdm import tqdm_notebook\n",
    "import numpy as np\n",
    "from matplotlib import pyplot as plt\n",
    "from sklearn.preprocessing import MinMaxScaler\n",
    "from sklearn.model_selection import train_test_split\n",
    "from sklearn.metrics import mean_squared_error\n",
    "from keras.models import Sequential,load_model\n",
    "from keras.layers import LSTM, Dense\n",
    "from keras.layers import Dropout, Activation, Flatten\n",
    "from keras.optimizers import SGD"
   ]
  },
  {
   "cell_type": "code",
   "execution_count": 2,
   "metadata": {},
   "outputs": [
    {
     "name": "stdout",
     "output_type": "stream",
     "text": [
      "           Year  Month  Day    Hours  Precipitation  Temperature  Outflow\n",
      "Dates                                                                    \n",
      "10/1/1980  1980     10    1  0:00:00            0.0      102.992      5.0\n",
      "10/1/1980  1980     10    1  1:00:00            0.0       97.790      5.0\n",
      "10/1/1980  1980     10    1  2:00:00            0.0       92.588      5.0\n",
      "10/1/1980  1980     10    1  3:00:00            0.0       87.404      5.0\n",
      "10/1/1980  1980     10    1  4:00:00            0.0       85.172      5.0\n"
     ]
    }
   ],
   "source": [
    "df_ge = pd.read_csv( \"Sub0-RAW.csv\", index_col=0)\n",
    "print(df_ge.head())"
   ]
  },
  {
   "cell_type": "code",
   "execution_count": 3,
   "metadata": {},
   "outputs": [
    {
     "data": {
      "text/plain": [
       "'\\nplt.figure()\\nplt.plot(df_ge[\"Open\"])\\nplt.plot(df_ge[\"High\"])\\nplt.plot(df_ge[\"Low\"])\\nplt.plot(df_ge[\"Close\"])\\nplt.title(\\'GE stock price history\\')\\nplt.ylabel(\\'Price (USD)\\')\\nplt.xlabel(\\'Days\\')\\nplt.legend([\\'Open\\',\\'High\\',\\'Low\\',\\'Close\\'], loc=\\'upper left\\')\\nplt.show()\\n'"
      ]
     },
     "execution_count": 3,
     "metadata": {},
     "output_type": "execute_result"
    }
   ],
   "source": [
    "'''\n",
    "plt.figure()\n",
    "plt.plot(df_ge[\"Open\"])\n",
    "plt.plot(df_ge[\"High\"])\n",
    "plt.plot(df_ge[\"Low\"])\n",
    "plt.plot(df_ge[\"Close\"])\n",
    "plt.title('GE stock price history')\n",
    "plt.ylabel('Price (USD)')\n",
    "plt.xlabel('Days')\n",
    "plt.legend(['Open','High','Low','Close'], loc='upper left')\n",
    "plt.show()\n",
    "'''"
   ]
  },
  {
   "cell_type": "code",
   "execution_count": 4,
   "metadata": {},
   "outputs": [
    {
     "data": {
      "text/plain": [
       "'\\nplt.figure()\\nplt.plot(df_ge[\"Volume\"])\\nplt.title(\\'GE stock volume history\\')\\nplt.ylabel(\\'Volume\\')\\nplt.xlabel(\\'Days\\')\\nplt.show()\\n'"
      ]
     },
     "execution_count": 4,
     "metadata": {},
     "output_type": "execute_result"
    }
   ],
   "source": [
    "'''\n",
    "plt.figure()\n",
    "plt.plot(df_ge[\"Volume\"])\n",
    "plt.title('GE stock volume history')\n",
    "plt.ylabel('Volume')\n",
    "plt.xlabel('Days')\n",
    "plt.show()\n",
    "'''"
   ]
  },
  {
   "cell_type": "code",
   "execution_count": 5,
   "metadata": {},
   "outputs": [
    {
     "name": "stdout",
     "output_type": "stream",
     "text": [
      "checking if any null values are present\n",
      " Year              0\n",
      "Month             0\n",
      "Day               0\n",
      "Hours            21\n",
      "Precipitation     0\n",
      "Temperature       0\n",
      "Outflow           0\n",
      "dtype: int64\n"
     ]
    }
   ],
   "source": [
    "print(\"checking if any null values are present\\n\", df_ge.isna().sum())"
   ]
  },
  {
   "cell_type": "code",
   "execution_count": 6,
   "metadata": {},
   "outputs": [
    {
     "name": "stdout",
     "output_type": "stream",
     "text": [
      "Train and Test size 148435 37109\n"
     ]
    }
   ],
   "source": [
    "### In the complete code we can chnage parameters in two cells one is here with respect to data and second one in the Neural network cell where\n",
    "### we chnage the parameters for the neural network like epochs and batch size \n",
    "\n",
    "### Coloumns required for the input data can remove coloumns if need less number of features \n",
    "#train_cols = [\"Open\",\"High\",\"Low\",\"Close\",\"Volume\"]\n",
    "train_cols = [\"Precipitation\",\"Temperature\",\"Outflow\"]\n",
    "#train_cols = [\"Temperature\",\"Outflow\"]\n",
    "label_cols = [\"Outflow\"]\n",
    "\n",
    "#### Number of timesteps required \n",
    "TIME_STEPS = 18\n",
    "\n",
    "df_train, df_test = train_test_split(df_ge, train_size=0.8, test_size=0.2, shuffle=False)\n",
    "print(\"Train and Test size\", len(df_train), len(df_test))\n"
   ]
  },
  {
   "cell_type": "code",
   "execution_count": 7,
   "metadata": {},
   "outputs": [
    {
     "name": "stdout",
     "output_type": "stream",
     "text": [
      "[[  0.    102.992   5.   ]\n",
      " [  0.     97.79    5.   ]\n",
      " [  0.     92.588   5.   ]\n",
      " ...\n",
      " [  0.     74.354   1.   ]\n",
      " [  0.     79.142   1.   ]\n",
      " [  0.     83.948   1.   ]]\n"
     ]
    }
   ],
   "source": [
    "# Loading training data into X\n",
    "x = df_train.loc[:,train_cols].values\n",
    "#noise=abs((np.random.rand(x.shape[0],x.shape[1]) )*10)\n",
    "#x = x + noise\n",
    "y = df_train.loc[:,label_cols].values\n",
    "\n",
    "x_train=x\n",
    "y_train=y\n",
    "x_test = df_test.loc[:,train_cols].values\n",
    "y_test = df_test.loc[:,label_cols].values\n",
    "print(x_train)"
   ]
  },
  {
   "cell_type": "code",
   "execution_count": 8,
   "metadata": {},
   "outputs": [],
   "source": [
    "def build_timeseries(mat, y_label,y_label_Actual, TIME_STEPS):\n",
    "    # y_col_index is the index of column that would act as output column\n",
    "    # total number of time-series samples would be len(mat) - TIME_STEPS\n",
    "    dim_0 = mat.shape[0] - TIME_STEPS\n",
    "    dim_1 = mat.shape[1]\n",
    "    x = np.zeros((dim_0, TIME_STEPS, dim_1))\n",
    "    y = np.zeros((dim_0,))\n",
    "    y_Actual = np.zeros((dim_0,))\n",
    "    \n",
    "    for i in tqdm_notebook(range(dim_0)):\n",
    "        x[i] = mat[i:TIME_STEPS+i]\n",
    "        y[i] =y_label[TIME_STEPS+i, 0]\n",
    "        y_Actual[i] =y_label_Actual[TIME_STEPS+i, 0]\n",
    "    print(\"length of time-series i/o\",x.shape,y.shape)\n",
    "    return x, y, y_Actual"
   ]
  },
  {
   "cell_type": "code",
   "execution_count": 9,
   "metadata": {},
   "outputs": [
    {
     "data": {
      "application/vnd.jupyter.widget-view+json": {
       "model_id": "c8936806b5de4f339be4139992bda97b",
       "version_major": 2,
       "version_minor": 0
      },
      "text/plain": [
       "HBox(children=(IntProgress(value=0, max=148417), HTML(value='')))"
      ]
     },
     "metadata": {},
     "output_type": "display_data"
    },
    {
     "name": "stdout",
     "output_type": "stream",
     "text": [
      "\n",
      "length of time-series i/o (148417, 18, 3) (148417,)\n"
     ]
    },
    {
     "data": {
      "application/vnd.jupyter.widget-view+json": {
       "model_id": "71d8304473e5472ca6cfe4fc3670be75",
       "version_major": 2,
       "version_minor": 0
      },
      "text/plain": [
       "HBox(children=(IntProgress(value=0, max=37091), HTML(value='')))"
      ]
     },
     "metadata": {},
     "output_type": "display_data"
    },
    {
     "name": "stdout",
     "output_type": "stream",
     "text": [
      "\n",
      "length of time-series i/o (37091, 18, 3) (37091,)\n"
     ]
    }
   ],
   "source": [
    "\n",
    "# Min Max scalr normalizing\n",
    "# Parameters for normalizing the training data\n",
    "min_max_scaler_X_Train = MinMaxScaler(feature_range = (0, 1))\n",
    "min_max_scaler_Y_Train = MinMaxScaler(feature_range = (0, 1))\n",
    "\n",
    "# Parameters for normalizing the testing data\n",
    "min_max_scaler_X_Test = MinMaxScaler(feature_range = (0, 1))\n",
    "min_max_scaler_Y_Test = MinMaxScaler(feature_range = (0, 1))\n",
    "\n",
    "\n",
    "# Normalizing Data Training Data\n",
    "x_train_Nor  = min_max_scaler_X_Train.fit_transform(x_train)\n",
    "y_train_Nor  = min_max_scaler_Y_Train.fit_transform(y_train)\n",
    "\n",
    "# Converting the data into timeseries \n",
    "X_Train, Y_Train, Y_Train_Actual = build_timeseries(x_train_Nor, y_train_Nor,y_train,TIME_STEPS)\n",
    "\n",
    "# Normalizing Validation  Data\n",
    "x_test_Nor =  min_max_scaler_X_Test.fit_transform(x_test)\n",
    "y_test_Nor  = min_max_scaler_Y_Test.fit_transform(y_test)\n",
    "\n",
    "# Converting the data into timeseries \n",
    "X_Val, Y_Val,Y_Val_Actual = build_timeseries(x_test_Nor,y_test_Nor, y_test, TIME_STEPS)"
   ]
  },
  {
   "cell_type": "code",
   "execution_count": 10,
   "metadata": {},
   "outputs": [
    {
     "name": "stdout",
     "output_type": "stream",
     "text": [
      "[[[0.00000000e+00 6.91583284e-01 5.20833333e-04]\n",
      "  [0.00000000e+00 7.33372572e-01 5.20833333e-04]\n",
      "  [0.00000000e+00 7.74965666e-01 5.20833333e-04]\n",
      "  ...\n",
      "  [0.00000000e+00 4.49480086e-01 5.20833333e-04]\n",
      "  [0.00000000e+00 4.32018835e-01 5.20833333e-04]\n",
      "  [0.00000000e+00 4.14557583e-01 5.20833333e-04]]\n",
      "\n",
      " [[0.00000000e+00 7.33372572e-01 5.20833333e-04]\n",
      "  [0.00000000e+00 7.74965666e-01 5.20833333e-04]\n",
      "  [0.00000000e+00 7.80851481e-01 5.20833333e-04]\n",
      "  ...\n",
      "  [0.00000000e+00 4.32018835e-01 5.20833333e-04]\n",
      "  [0.00000000e+00 4.14557583e-01 5.20833333e-04]\n",
      "  [0.00000000e+00 4.23974887e-01 5.20833333e-04]]\n",
      "\n",
      " [[0.00000000e+00 7.74965666e-01 5.20833333e-04]\n",
      "  [0.00000000e+00 7.80851481e-01 5.20833333e-04]\n",
      "  [0.00000000e+00 7.86933490e-01 5.20833333e-04]\n",
      "  ...\n",
      "  [0.00000000e+00 4.14557583e-01 5.20833333e-04]\n",
      "  [0.00000000e+00 4.23974887e-01 5.20833333e-04]\n",
      "  [0.00000000e+00 4.33392191e-01 5.20833333e-04]]\n",
      "\n",
      " ...\n",
      "\n",
      " [[0.00000000e+00 2.96448892e-01 1.04166667e-03]\n",
      "  [0.00000000e+00 2.90955464e-01 1.04166667e-03]\n",
      "  [0.00000000e+00 2.85462036e-01 1.04166667e-03]\n",
      "  ...\n",
      "  [0.00000000e+00 3.11359623e-01 1.51041667e-02]\n",
      "  [0.00000000e+00 3.26662743e-01 1.56250000e-02]\n",
      "  [0.00000000e+00 3.41769668e-01 1.51041667e-02]]\n",
      "\n",
      " [[0.00000000e+00 2.90955464e-01 1.04166667e-03]\n",
      "  [0.00000000e+00 2.85462036e-01 1.04166667e-03]\n",
      "  [0.00000000e+00 2.79772415e-01 1.04166667e-03]\n",
      "  ...\n",
      "  [0.00000000e+00 3.26662743e-01 1.56250000e-02]\n",
      "  [0.00000000e+00 3.41769668e-01 1.51041667e-02]\n",
      "  [0.00000000e+00 3.57072788e-01 1.51041667e-02]]\n",
      "\n",
      " [[0.00000000e+00 2.85462036e-01 1.04166667e-03]\n",
      "  [0.00000000e+00 2.79772415e-01 1.04166667e-03]\n",
      "  [0.00000000e+00 2.75652345e-01 1.04166667e-03]\n",
      "  ...\n",
      "  [0.00000000e+00 3.41769668e-01 1.51041667e-02]\n",
      "  [0.00000000e+00 3.57072788e-01 1.51041667e-02]\n",
      "  [0.00000000e+00 3.56876594e-01 1.61458333e-02]]]\n",
      "[0.00052083 0.00052083 0.00052083 ... 0.01510417 0.01614583 0.01979167]\n"
     ]
    }
   ],
   "source": [
    "print(X_Val)\n",
    "print(Y_Val)"
   ]
  },
  {
   "cell_type": "code",
   "execution_count": 11,
   "metadata": {},
   "outputs": [
    {
     "name": "stdout",
     "output_type": "stream",
     "text": [
      "Train on 148417 samples, validate on 37091 samples\n",
      "Epoch 1/10\n",
      "148417/148417 [==============================] - 76s - loss: 9.1449e-05 - acc: 0.3189 - val_loss: 7.3331e-05 - val_acc: 0.3710\n",
      "Epoch 2/10\n",
      "148417/148417 [==============================] - 77s - loss: 3.8401e-05 - acc: 0.3189 - val_loss: 1.7782e-05 - val_acc: 0.3710\n",
      "Epoch 3/10\n",
      "148417/148417 [==============================] - 72s - loss: 2.4750e-05 - acc: 0.3189 - val_loss: 1.7065e-05 - val_acc: 0.3710\n",
      "Epoch 4/10\n",
      "148417/148417 [==============================] - 72s - loss: 2.1610e-05 - acc: 0.3189 - val_loss: 2.0146e-05 - val_acc: 0.3710\n",
      "Epoch 5/10\n",
      "148417/148417 [==============================] - 71s - loss: 1.9122e-05 - acc: 0.3189 - val_loss: 1.2818e-05 - val_acc: 0.3710\n",
      "Epoch 6/10\n",
      "148417/148417 [==============================] - 71s - loss: 1.7377e-05 - acc: 0.3189 - val_loss: 1.3469e-05 - val_acc: 0.3710\n",
      "Epoch 7/10\n",
      "148417/148417 [==============================] - 71s - loss: 1.4942e-05 - acc: 0.3189 - val_loss: 8.6685e-06 - val_acc: 0.3710\n",
      "Epoch 8/10\n",
      "148417/148417 [==============================] - 71s - loss: 1.3545e-05 - acc: 0.3189 - val_loss: 1.1465e-05 - val_acc: 0.3710\n",
      "Epoch 9/10\n",
      "148417/148417 [==============================] - 71s - loss: 1.2617e-05 - acc: 0.3189 - val_loss: 1.1487e-05 - val_acc: 0.3710\n",
      "Epoch 10/10\n",
      "148417/148417 [==============================] - 71s - loss: 1.1714e-05 - acc: 0.3189 - val_loss: 3.2689e-05 - val_acc: 0.3710\n",
      "_________________________________________________________________\n",
      "Layer (type)                 Output Shape              Param #   \n",
      "=================================================================\n",
      "lstm_1 (LSTM)                (None, 18, 24)            2688      \n",
      "_________________________________________________________________\n",
      "dropout_1 (Dropout)          (None, 18, 24)            0         \n",
      "_________________________________________________________________\n",
      "lstm_2 (LSTM)                (None, 50)                15000     \n",
      "_________________________________________________________________\n",
      "dropout_2 (Dropout)          (None, 50)                0         \n",
      "_________________________________________________________________\n",
      "dense_1 (Dense)              (None, 20)                1020      \n",
      "_________________________________________________________________\n",
      "dense_2 (Dense)              (None, 1)                 21        \n",
      "=================================================================\n",
      "Total params: 18,729\n",
      "Trainable params: 18,729\n",
      "Non-trainable params: 0\n",
      "_________________________________________________________________\n"
     ]
    }
   ],
   "source": [
    "# Initialising the RNN\n",
    "model = Sequential()\n",
    "# Adding the first LSTM layer and some Dropout regularisation\n",
    "model.add(LSTM(24, return_sequences=True,\n",
    "               input_shape=(X_Train.shape[1], X_Train.shape[2])))  # returns a sequence of vectors of dimension 64\n",
    "model.add(Dropout(0.2))\n",
    "\n",
    "# Adding a second LSTM layer and some Dropout regularisation\n",
    "model.add(LSTM(units = 50))\n",
    "model.add(Dropout(0.2))\n",
    "\n",
    "# Adding a Dense layer and some Dropout regularisation\n",
    "model.add(Dense(20,activation='relu'))\n",
    "\n",
    "\n",
    "# Adding the output layer\n",
    "\n",
    "model.add(Dense(1, activation=\"linear\"))\n",
    "\n",
    "\n",
    "\n",
    "\n",
    "model.compile(optimizer = 'adam', loss = 'mean_squared_error',metrics=['accuracy'])\n",
    "# Number of epochs and Batch Sizes can be change \n",
    "history=model.fit(X_Train, Y_Train,\n",
    "           epochs=10,\n",
    "          validation_data=(X_Val, Y_Val))\n",
    "# Model summary for number of parameters use in the algorithm \n",
    "model.summary()"
   ]
  },
  {
   "cell_type": "code",
   "execution_count": 12,
   "metadata": {},
   "outputs": [
    {
     "data": {
      "image/png": "[encoded data removed]",
      "text/plain": [
       "<Figure size 432x288 with 1 Axes>"
      ]
     },
     "metadata": {
      "needs_background": "light"
     },
     "output_type": "display_data"
    },
    {
     "data": {
      "image/png": "[encoded data removed]",
      "text/plain": [
       "<Figure size 432x288 with 1 Axes>"
      ]
     },
     "metadata": {
      "needs_background": "light"
     },
     "output_type": "display_data"
    }
   ],
   "source": [
    "plt.plot(history.history['acc'])\n",
    "plt.plot(history.history['val_acc'])\n",
    "plt.title('model accuracy')\n",
    "plt.ylabel('accuracy')\n",
    "plt.xlabel('epoch')\n",
    "plt.legend(['train', 'Val'], loc='upper left')\n",
    "plt.show()\n",
    "\n",
    "plt.plot(history.history['loss'])\n",
    "plt.plot(history.history['val_loss'])\n",
    "plt.title('model loss')\n",
    "plt.ylabel('loss')\n",
    "plt.xlabel('epoch')\n",
    "plt.legend(['train', 'Val'], loc='upper left')\n",
    "plt.show()\n"
   ]
  },
  {
   "cell_type": "code",
   "execution_count": 13,
   "metadata": {},
   "outputs": [],
   "source": [
    "model.save('my_model_MIN_MAX_InBuilt_Normalization.hdf5')\n"
   ]
  },
  {
   "cell_type": "code",
   "execution_count": 14,
   "metadata": {},
   "outputs": [
    {
     "name": "stdout",
     "output_type": "stream",
     "text": [
      "[[2.1240795]] 1.0\n",
      "[[2.1346278]] 1.0\n",
      "[[2.1305428]] 1.0\n",
      "[[2.1351411]] 1.0\n",
      "[[2.1290693]] 1.0\n",
      "[[2.0953379]] 1.0\n",
      "[[2.0660698]] 1.0\n",
      "[[2.0532029]] 1.0\n",
      "[[2.0365934]] 1.0\n",
      "[[1.9958861]] 1.0\n",
      "[[1.9575981]] 1.0\n",
      "[[1.9410356]] 1.0\n",
      "[[1.9134613]] 1.0\n",
      "[[1.9107337]] 1.0\n",
      "[[1.968013]] 1.0\n",
      "[[2.0185132]] 1.0\n",
      "[[2.0255718]] 1.0\n",
      "[[2.007173]] 1.0\n",
      "[[2.009526]] 1.0\n",
      "[[2.0293286]] 1.0\n",
      "[[2.043483]] 1.0\n",
      "[[2.0567122]] 1.0\n",
      "[[2.0757384]] 1.0\n",
      "[[2.096211]] 1.0\n",
      "[[2.1155884]] 1.0\n",
      "[[2.1227815]] 1.0\n",
      "[[2.1178007]] 1.0\n",
      "[[2.119161]] 1.0\n",
      "[[2.1135035]] 1.0\n",
      "[[2.0873175]] 1.0\n",
      "[[2.0623207]] 1.0\n",
      "[[2.053522]] 1.0\n",
      "[[2.051182]] 1.0\n",
      "[[2.0314627]] 1.0\n",
      "[[2.001654]] 1.0\n",
      "[[1.9768332]] 1.0\n",
      "[[1.9510646]] 1.0\n",
      "[[1.9507613]] 1.0\n",
      "[[1.9928412]] 1.0\n",
      "[[2.025816]] 1.0\n",
      "[[2.0295618]] 1.0\n",
      "[[2.021542]] 1.0\n",
      "[[2.0281513]] 1.0\n",
      "[[2.0397696]] 1.0\n",
      "[[2.0415344]] 1.0\n",
      "[[2.0470898]] 1.0\n",
      "[[2.064628]] 1.0\n",
      "[[2.0857935]] 1.0\n",
      "[[2.1024418]] 1.0\n",
      "[[2.1059005]] 1.0\n",
      "[[2.0990345]] 1.0\n",
      "[[2.0982258]] 1.0\n",
      "[[2.0816848]] 1.0\n",
      "[[2.0356991]] 1.0\n",
      "[[1.9962801]] 1.0\n",
      "[[1.9899687]] 1.0\n",
      "[[2.0038702]] 1.0\n",
      "[[1.9931302]] 1.0\n",
      "[[1.9693118]] 1.0\n",
      "[[1.9584525]] 1.0\n",
      "[[1.9493383]] 1.0\n",
      "[[1.9553766]] 1.0\n",
      "[[1.9916623]] 1.0\n",
      "[[2.0241535]] 1.0\n",
      "[[2.0326157]] 1.0\n",
      "[[2.0264034]] 1.0\n",
      "[[2.0332072]] 1.0\n",
      "[[2.0537765]] 1.0\n",
      "[[2.0748115]] 1.0\n",
      "[[2.0931885]] 1.0\n",
      "[[2.1113489]] 1.0\n",
      "[[2.1292326]] 1.0\n",
      "[[2.147892]] 1.0\n",
      "[[2.1534312]] 1.0\n",
      "[[2.144818]] 1.0\n",
      "[[2.1449862]] 1.0\n",
      "[[2.1361434]] 1.0\n",
      "[[2.1019995]] 1.0\n",
      "[[2.0714853]] 1.0\n",
      "[[2.062304]] 1.0\n",
      "[[2.0584066]] 1.0\n",
      "[[2.030839]] 1.0\n",
      "[[1.9990408]] 1.0\n",
      "[[1.9845197]] 1.0\n",
      "[[1.9648641]] 1.0\n",
      "[[1.9652947]] 1.0\n",
      "[[2.0109239]] 1.0\n",
      "[[2.050621]] 1.0\n",
      "[[2.0556512]] 1.0\n",
      "[[2.041012]] 1.0\n",
      "[[2.0440307]] 1.0\n",
      "[[2.0680323]] 1.0\n",
      "[[2.095348]] 1.0\n",
      "[[2.117564]] 1.0\n",
      "[[2.1320014]] 1.0\n",
      "[[2.1411548]] 1.0\n",
      "[[2.156766]] 1.0\n",
      "[[2.1667078]] 1.0\n",
      "[[2.1648412]] 1.0\n",
      "[[2.169146]] 1.0\n"
     ]
    }
   ],
   "source": [
    "#print(model.predict(X_Val)\n",
    "\n",
    "x_buffer = np.zeros((1,X_Train.shape[1], X_Train.shape[2]))\n",
    "#model.predict(X_Val)\n",
    "for i in range(100):\n",
    "    x_buffer[0,:] = X_Val[i,:]\n",
    "    print(min_max_scaler_Y_Train.inverse_transform(model.predict( x_buffer)),Y_Val_Actual[i])\n",
    "   \n"
   ]
  },
  {
   "cell_type": "code",
   "execution_count": 15,
   "metadata": {},
   "outputs": [
    {
     "data": {
      "text/plain": [
       "array([[ 2.124079 ],\n",
       "       [ 2.1346283],\n",
       "       [ 2.1305428],\n",
       "       ...,\n",
       "       [24.403872 ],\n",
       "       [25.297775 ],\n",
       "       [28.86207  ]], dtype=float32)"
      ]
     },
     "execution_count": 15,
     "metadata": {},
     "output_type": "execute_result"
    }
   ],
   "source": [
    "predict =min_max_scaler_Y_Train.inverse_transform( model.predict(X_Val))\n",
    "\n",
    "predict"
   ]
  },
  {
   "cell_type": "code",
   "execution_count": 16,
   "metadata": {},
   "outputs": [
    {
     "data": {
      "image/png": "[encoded data removed]",
      "text/plain": [
       "<Figure size 432x288 with 1 Axes>"
      ]
     },
     "metadata": {
      "needs_background": "light"
     },
     "output_type": "display_data"
    }
   ],
   "source": [
    "plt.figure()\n",
    "plt.plot((predict))\n",
    "plt.plot(Y_Val_Actual)\n",
    "\n",
    "plt.title('GE stock price prediction')\n",
    "plt.ylabel('Price (USD)')\n",
    "plt.xlabel('Days')\n",
    "plt.legend(['predict','Actual'], loc='upper left')\n",
    "\n",
    "plt.savefig(\"figurelinearFeedforward.jpg\")\n",
    "plt.show()"
   ]
  },
  {
   "cell_type": "code",
   "execution_count": 17,
   "metadata": {},
   "outputs": [
    {
     "data": {
      "image/png": "[encoded data removed]",
      "text/plain": [
       "<Figure size 432x288 with 1 Axes>"
      ]
     },
     "metadata": {
      "needs_background": "light"
     },
     "output_type": "display_data"
    }
   ],
   "source": [
    "plt.figure()\n",
    "plt.plot((predict))\n",
    "\n",
    "\n",
    "plt.title('GE stock price prediction')\n",
    "plt.ylabel('Price (USD)')\n",
    "plt.xlabel('Days')\n",
    "plt.legend(['predict'], loc='upper left')\n",
    "\n",
    "#plt.savefig(\"figurelinearFeedforward.jpg\")\n",
    "plt.show()"
   ]
  },
  {
   "cell_type": "code",
   "execution_count": 18,
   "metadata": {},
   "outputs": [
    {
     "data": {
      "image/png": "[encoded data removed]",
      "text/plain": [
       "<Figure size 432x288 with 1 Axes>"
      ]
     },
     "metadata": {
      "needs_background": "light"
     },
     "output_type": "display_data"
    }
   ],
   "source": [
    "plt.figure()\n",
    "\n",
    "plt.plot(Y_Val_Actual)\n",
    "\n",
    "plt.title('GE stock price prediction')\n",
    "plt.ylabel('Price (USD)')\n",
    "plt.xlabel('Days')\n",
    "plt.legend(['Actual'], loc='upper left')\n",
    "\n",
    "plt.savefig(\"figurelinearFeedforward.jpg\")\n",
    "plt.show()"
   ]
  },
  {
   "cell_type": "code",
   "execution_count": 19,
   "metadata": {},
   "outputs": [
    {
     "data": {
      "text/plain": [
       "208.19845888819628"
      ]
     },
     "execution_count": 19,
     "metadata": {},
     "output_type": "execute_result"
    }
   ],
   "source": [
    "mean_square_root = mean_squared_error(predict, Y_Val_Actual)\n",
    "mean_square_root"
   ]
  },
  {
   "cell_type": "code",
   "execution_count": 20,
   "metadata": {},
   "outputs": [
    {
     "data": {
      "text/plain": [
       "14.429083785472876"
      ]
     },
     "execution_count": 20,
     "metadata": {},
     "output_type": "execute_result"
    }
   ],
   "source": [
    "square_root=np.sqrt(mean_square_root)\n",
    "square_root"
   ]
  },
  {
   "cell_type": "code",
   "execution_count": null,
   "metadata": {},
   "outputs": [],
   "source": []
  }
 ],
 "metadata": {
  "kernelspec": {
   "display_name": "Python 3",
   "language": "python",
   "name": "python3"
  },
  "language_info": {
   "codemirror_mode": {
    "name": "ipython",
    "version": 3
   },
   "file_extension": ".py",
   "mimetype": "text/x-python",
   "name": "python",
   "nbconvert_exporter": "python",
   "pygments_lexer": "ipython3",
   "version": "3.7.6"
  }
 },
 "nbformat": 4,
 "nbformat_minor": 2
}
