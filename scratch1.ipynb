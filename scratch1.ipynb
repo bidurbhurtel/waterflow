{
 "cells": [
  {
   "cell_type": "code",
   "execution_count": 1,
   "metadata": {},
   "outputs": [],
   "source": [
    "import numpy as np\n",
    "import pandas as pd\n",
    "import matplotlib.pyplot as plt\n",
    "from sklearn.model_selection import train_test_split\n",
    "from sklearn.preprocessing import MinMaxScaler\n",
    "from keras.models import load_model\n",
    "from tqdm import tqdm_notebook\n",
    "from sklearn.metrics import mean_squared_error"
   ]
  },
  {
   "cell_type": "code",
   "execution_count": 2,
   "metadata": {},
   "outputs": [],
   "source": [
    "model = load_model('model1_waterflow_mse_32.hdf5')"
   ]
  },
  {
   "cell_type": "code",
   "execution_count": 3,
   "metadata": {},
   "outputs": [
    {
     "data": {
      "text/html": [
       "<div>\n",
       "<style scoped>\n",
       "    .dataframe tbody tr th:only-of-type {\n",
       "        vertical-align: middle;\n",
       "    }\n",
       "\n",
       "    .dataframe tbody tr th {\n",
       "        vertical-align: top;\n",
       "    }\n",
       "\n",
       "    .dataframe thead th {\n",
       "        text-align: right;\n",
       "    }\n",
       "</style>\n",
       "<table border=\"1\" class=\"dataframe\">\n",
       "  <thead>\n",
       "    <tr style=\"text-align: right;\">\n",
       "      <th></th>\n",
       "      <th>Dates</th>\n",
       "      <th>Year</th>\n",
       "      <th>Month</th>\n",
       "      <th>Day</th>\n",
       "      <th>Hours</th>\n",
       "      <th>Precipitation</th>\n",
       "      <th>Temperature</th>\n",
       "      <th>Outflow</th>\n",
       "    </tr>\n",
       "  </thead>\n",
       "  <tbody>\n",
       "    <tr>\n",
       "      <th>0</th>\n",
       "      <td>10/1/1980</td>\n",
       "      <td>1980</td>\n",
       "      <td>10</td>\n",
       "      <td>1</td>\n",
       "      <td>0:00:00</td>\n",
       "      <td>0.0</td>\n",
       "      <td>102.992</td>\n",
       "      <td>5.0</td>\n",
       "    </tr>\n",
       "    <tr>\n",
       "      <th>1</th>\n",
       "      <td>10/1/1980</td>\n",
       "      <td>1980</td>\n",
       "      <td>10</td>\n",
       "      <td>1</td>\n",
       "      <td>1:00:00</td>\n",
       "      <td>0.0</td>\n",
       "      <td>97.790</td>\n",
       "      <td>5.0</td>\n",
       "    </tr>\n",
       "    <tr>\n",
       "      <th>2</th>\n",
       "      <td>10/1/1980</td>\n",
       "      <td>1980</td>\n",
       "      <td>10</td>\n",
       "      <td>1</td>\n",
       "      <td>2:00:00</td>\n",
       "      <td>0.0</td>\n",
       "      <td>92.588</td>\n",
       "      <td>5.0</td>\n",
       "    </tr>\n",
       "    <tr>\n",
       "      <th>3</th>\n",
       "      <td>10/1/1980</td>\n",
       "      <td>1980</td>\n",
       "      <td>10</td>\n",
       "      <td>1</td>\n",
       "      <td>3:00:00</td>\n",
       "      <td>0.0</td>\n",
       "      <td>87.404</td>\n",
       "      <td>5.0</td>\n",
       "    </tr>\n",
       "    <tr>\n",
       "      <th>4</th>\n",
       "      <td>10/1/1980</td>\n",
       "      <td>1980</td>\n",
       "      <td>10</td>\n",
       "      <td>1</td>\n",
       "      <td>4:00:00</td>\n",
       "      <td>0.0</td>\n",
       "      <td>85.172</td>\n",
       "      <td>5.0</td>\n",
       "    </tr>\n",
       "  </tbody>\n",
       "</table>\n",
       "</div>"
      ],
      "text/plain": [
       "       Dates  Year  Month  Day    Hours  Precipitation  Temperature  Outflow\n",
       "0  10/1/1980  1980     10    1  0:00:00            0.0      102.992      5.0\n",
       "1  10/1/1980  1980     10    1  1:00:00            0.0       97.790      5.0\n",
       "2  10/1/1980  1980     10    1  2:00:00            0.0       92.588      5.0\n",
       "3  10/1/1980  1980     10    1  3:00:00            0.0       87.404      5.0\n",
       "4  10/1/1980  1980     10    1  4:00:00            0.0       85.172      5.0"
      ]
     },
     "execution_count": 3,
     "metadata": {},
     "output_type": "execute_result"
    }
   ],
   "source": [
    "df = pd.read_csv('Sub0-RAW.csv')\n",
    "df.head()"
   ]
  },
  {
   "cell_type": "code",
   "execution_count": 7,
   "metadata": {},
   "outputs": [
    {
     "ename": "TypeError",
     "evalue": "object of type 'ResourceVariable' has no len()",
     "output_type": "error",
     "traceback": [
      "\u001b[0;31m---------------------------------------------------------------------------\u001b[0m",
      "\u001b[0;31mTypeError\u001b[0m                                 Traceback (most recent call last)",
      "\u001b[0;32m<ipython-input-7-8e7c78888620>\u001b[0m in \u001b[0;36m<module>\u001b[0;34m\u001b[0m\n\u001b[0;32m----> 1\u001b[0;31m \u001b[0mlen\u001b[0m\u001b[0;34m(\u001b[0m\u001b[0mmodel\u001b[0m\u001b[0;34m.\u001b[0m\u001b[0mweights\u001b[0m\u001b[0;34m)\u001b[0m\u001b[0;34m,\u001b[0m\u001b[0mlen\u001b[0m\u001b[0;34m(\u001b[0m\u001b[0mmodel\u001b[0m\u001b[0;34m.\u001b[0m\u001b[0mweights\u001b[0m\u001b[0;34m[\u001b[0m\u001b[0;36m1\u001b[0m\u001b[0;34m]\u001b[0m\u001b[0;34m)\u001b[0m\u001b[0;34m\u001b[0m\u001b[0;34m\u001b[0m\u001b[0m\n\u001b[0m",
      "\u001b[0;31mTypeError\u001b[0m: object of type 'ResourceVariable' has no len()"
     ]
    }
   ],
   "source": [
    "len(model.weights),len(model.weights[1])"
   ]
  },
  {
   "cell_type": "code",
   "execution_count": 11,
   "metadata": {},
   "outputs": [
    {
     "data": {
      "text/plain": [
       "tensorflow.python.ops.resource_variable_ops.ResourceVariable"
      ]
     },
     "execution_count": 11,
     "metadata": {},
     "output_type": "execute_result"
    }
   ],
   "source": [
    "type((model.weights)[1])"
   ]
  },
  {
   "cell_type": "code",
   "execution_count": 1,
   "metadata": {},
   "outputs": [],
   "source": [
    "import torch\n",
    "\n",
    "a = torch.arange(8).reshape(2, 2, 2)\n",
    "b = torch.arange(12).reshape(2, 2, 3)\n",
    "my_list = [a, b]"
   ]
  },
  {
   "cell_type": "code",
   "execution_count": 2,
   "metadata": {},
   "outputs": [
    {
     "data": {
      "text/plain": [
       "[tensor([[[0, 1],\n",
       "          [2, 3]],\n",
       " \n",
       "         [[4, 5],\n",
       "          [6, 7]]]),\n",
       " tensor([[[ 0,  1,  2],\n",
       "          [ 3,  4,  5]],\n",
       " \n",
       "         [[ 6,  7,  8],\n",
       "          [ 9, 10, 11]]])]"
      ]
     },
     "execution_count": 2,
     "metadata": {},
     "output_type": "execute_result"
    }
   ],
   "source": [
    "my_list"
   ]
  },
  {
   "cell_type": "code",
   "execution_count": 3,
   "metadata": {},
   "outputs": [
    {
     "name": "stdout",
     "output_type": "stream",
     "text": [
      "torch.Size([2, 2, 5])\n"
     ]
    }
   ],
   "source": [
    "my_tensor = torch.cat([a, b], dim=2)\n",
    "print(my_tensor.shape) #torch.Size([2, 2, 5])"
   ]
  },
  {
   "cell_type": "code",
   "execution_count": 4,
   "metadata": {},
   "outputs": [
    {
     "data": {
      "text/plain": [
       "tensor([[[ 0,  1,  0,  1,  2],\n",
       "         [ 2,  3,  3,  4,  5]],\n",
       "\n",
       "        [[ 4,  5,  6,  7,  8],\n",
       "         [ 6,  7,  9, 10, 11]]])"
      ]
     },
     "execution_count": 4,
     "metadata": {},
     "output_type": "execute_result"
    }
   ],
   "source": [
    "my_tensor"
   ]
  },
  {
   "cell_type": "code",
   "execution_count": 11,
   "metadata": {},
   "outputs": [],
   "source": [
    "a = ([[ 0,  1,  0,  1,  2],\n",
    "         [ 2,  3,  3,  4,  5]],\n",
    "\n",
    "        [[ 4,  5,  6,  7,  8],\n",
    "         [ 6,  7,  9, 10, 11]])"
   ]
  },
  {
   "cell_type": "code",
   "execution_count": 12,
   "metadata": {},
   "outputs": [
    {
     "data": {
      "text/plain": [
       "tuple"
      ]
     },
     "execution_count": 12,
     "metadata": {},
     "output_type": "execute_result"
    }
   ],
   "source": [
    "type(a)"
   ]
  },
  {
   "cell_type": "code",
   "execution_count": 13,
   "metadata": {},
   "outputs": [
    {
     "data": {
      "text/plain": [
       "torch.Tensor"
      ]
     },
     "execution_count": 13,
     "metadata": {},
     "output_type": "execute_result"
    }
   ],
   "source": [
    "b = torch.LongTensor(a)\n",
    "type(b)"
   ]
  },
  {
   "cell_type": "code",
   "execution_count": 14,
   "metadata": {},
   "outputs": [
    {
     "data": {
      "text/plain": [
       "tensor([[[ 0,  1,  0,  1,  2],\n",
       "         [ 2,  3,  3,  4,  5]],\n",
       "\n",
       "        [[ 4,  5,  6,  7,  8],\n",
       "         [ 6,  7,  9, 10, 11]]])"
      ]
     },
     "execution_count": 14,
     "metadata": {},
     "output_type": "execute_result"
    }
   ],
   "source": [
    "b"
   ]
  },
  {
   "cell_type": "code",
   "execution_count": 16,
   "metadata": {},
   "outputs": [],
   "source": [
    "import torch.nn as nn"
   ]
  },
  {
   "cell_type": "code",
   "execution_count": 17,
   "metadata": {},
   "outputs": [],
   "source": [
    "rnn = nn.LSTM(10, 20, 2)\n",
    "inp = torch.randn(5, 3, 10)\n",
    "h0 = torch.randn(2, 3, 20)\n",
    "c0 = torch.randn(2, 3, 20)\n",
    "output, (hn, cn) = rnn(inp, (h0, c0))"
   ]
  },
  {
   "cell_type": "code",
   "execution_count": 18,
   "metadata": {},
   "outputs": [
    {
     "data": {
      "text/plain": [
       "tensor([[[ 1.5345e-01, -1.1607e-01,  3.0561e-02, -2.7565e-02, -1.1295e-01,\n",
       "          -9.2120e-03,  3.6687e-01, -4.1609e-01,  1.6330e-01, -1.6371e-01,\n",
       "           6.9888e-02,  5.5814e-01,  2.5615e-01, -1.0130e-01, -2.6010e-01,\n",
       "           5.9335e-02, -1.7100e-01,  1.4186e-01,  7.5899e-02,  3.6941e-01],\n",
       "         [-6.8451e-01,  2.6773e-01,  4.5162e-02, -1.7592e-01,  1.7980e-01,\n",
       "          -7.0528e-02, -2.6328e-01,  5.4576e-02,  1.4892e-01, -1.1442e-02,\n",
       "           2.9762e-01,  5.3621e-01, -2.9981e-01,  6.5323e-02, -3.2995e-01,\n",
       "          -1.0770e-01, -1.6817e-01, -2.3955e-01, -3.0727e-02,  9.8401e-02],\n",
       "         [-3.6695e-02, -1.2609e-01, -2.2673e-01, -1.0010e-01,  2.5725e-01,\n",
       "           7.9664e-02, -3.1451e-01,  2.1308e-01,  1.1622e-01, -3.7149e-03,\n",
       "          -3.2888e-01,  2.7705e-01, -2.8013e-01,  9.8036e-02,  3.3037e-02,\n",
       "           7.0665e-03, -1.6415e-01,  5.8175e-01,  1.8648e-02,  2.4090e-02]],\n",
       "\n",
       "        [[ 1.1239e-01,  2.1398e-02, -5.3075e-02,  5.9770e-02, -1.4246e-01,\n",
       "          -1.0603e-01,  2.6679e-01, -4.8983e-01,  1.8646e-01, -2.9836e-01,\n",
       "          -6.5314e-02,  2.4304e-01,  6.2938e-02, -7.2213e-02, -1.2546e-01,\n",
       "           1.0175e-01, -1.7705e-02,  6.5467e-02,  7.1153e-02,  1.6051e-01],\n",
       "         [-2.6380e-01,  1.5703e-01, -1.5645e-02, -3.2857e-02,  1.3196e-01,\n",
       "          -2.2392e-01, -5.4582e-02, -4.2073e-03,  5.6884e-02,  5.1650e-02,\n",
       "           2.3414e-01,  2.9984e-01, -1.9565e-01,  1.1187e-01, -2.1885e-01,\n",
       "          -6.1952e-02, -5.8064e-02, -6.6968e-02,  2.1396e-03, -5.4220e-02],\n",
       "         [ 4.7074e-02,  2.5067e-03, -8.6113e-02, -3.0147e-02,  1.4727e-01,\n",
       "          -8.6034e-02, -9.8575e-02,  8.2154e-02,  3.7124e-02, -3.0084e-03,\n",
       "          -3.5559e-01,  2.4312e-01, -1.4198e-01,  9.8189e-02, -2.7551e-02,\n",
       "           4.0830e-02, -1.4634e-01,  2.0874e-01,  1.0276e-02, -1.0472e-02]],\n",
       "\n",
       "        [[ 1.2200e-01,  8.6949e-02, -9.5573e-02,  8.3645e-02, -6.2868e-02,\n",
       "          -1.0433e-01,  1.7427e-01, -3.7061e-01,  1.1262e-01, -2.3816e-01,\n",
       "          -1.2702e-01,  2.1216e-01, -8.4158e-03, -2.8484e-02, -1.3348e-01,\n",
       "           1.0266e-01,  4.8425e-02, -2.4149e-03,  8.1379e-02,  4.5779e-02],\n",
       "         [-1.3403e-01,  1.1367e-01, -8.3000e-02,  4.5489e-02,  6.8079e-02,\n",
       "          -2.0166e-01,  3.1647e-02, -2.0563e-02,  1.1270e-02,  6.4215e-02,\n",
       "           1.4998e-01,  2.7216e-01, -9.1652e-02,  1.4766e-01, -2.0321e-01,\n",
       "          -3.5620e-02, -5.8598e-02,  1.9098e-02,  4.6060e-03, -7.3091e-02],\n",
       "         [ 7.9687e-02,  5.4939e-02, -8.4247e-02,  1.1349e-02,  7.2137e-02,\n",
       "          -1.2949e-01, -4.2506e-02,  2.3179e-02,  2.3702e-02, -7.2836e-04,\n",
       "          -2.4390e-01,  2.0448e-01, -7.3138e-02,  8.0624e-02, -6.9351e-02,\n",
       "           3.0118e-02, -6.1856e-02,  9.9725e-02,  9.3493e-03, -3.2208e-02]],\n",
       "\n",
       "        [[ 1.1909e-01,  1.0168e-01, -1.3608e-01,  9.4273e-02,  8.2408e-04,\n",
       "          -1.1367e-01,  1.3220e-01, -2.4573e-01,  5.4904e-02, -1.5135e-01,\n",
       "          -1.3711e-01,  1.6949e-01, -5.9245e-02,  2.1195e-02, -1.7272e-01,\n",
       "           5.9560e-02,  4.4392e-02, -2.0838e-02,  6.5947e-02, -9.6981e-03],\n",
       "         [-2.8099e-02,  9.8376e-02, -1.3025e-01,  7.3965e-02,  4.0636e-02,\n",
       "          -2.1280e-01,  7.3237e-02, -5.4024e-02,  1.0753e-02,  4.3125e-02,\n",
       "           2.9433e-02,  2.4308e-01, -5.2230e-02,  1.4986e-01, -1.9918e-01,\n",
       "           1.0697e-02, -3.6848e-02,  3.3416e-02,  8.2787e-03, -5.9662e-02],\n",
       "         [ 1.0156e-01,  5.7678e-02, -1.0443e-01,  2.6220e-02,  7.6636e-03,\n",
       "          -1.1423e-01, -4.0242e-02,  1.9155e-02,  8.0144e-03,  2.0855e-02,\n",
       "          -1.7841e-01,  1.8198e-01, -3.2112e-02,  6.1791e-02, -8.9477e-02,\n",
       "          -5.7306e-04,  5.2852e-03,  8.6171e-02,  1.7617e-02, -4.2940e-02]],\n",
       "\n",
       "        [[ 1.3737e-01,  1.0723e-01, -1.3185e-01,  8.2098e-02, -3.1586e-02,\n",
       "          -9.8277e-02,  7.0384e-02, -1.4707e-01,  2.3859e-02, -4.5246e-02,\n",
       "          -1.3555e-01,  1.5926e-01, -4.4462e-02,  3.9259e-02, -1.8666e-01,\n",
       "           2.9173e-02,  5.7016e-02,  3.0456e-02,  5.2288e-02, -4.2224e-02],\n",
       "         [ 4.3868e-02,  1.0367e-01, -1.4300e-01,  7.3245e-02,  3.0168e-02,\n",
       "          -2.2449e-01,  7.0441e-02, -7.3064e-02,  6.8207e-03,  4.8694e-02,\n",
       "          -3.4242e-02,  2.2912e-01, -4.9054e-02,  1.3562e-01, -2.0502e-01,\n",
       "           6.3696e-03, -2.4198e-02,  3.7454e-02,  1.3342e-02, -5.9168e-02],\n",
       "         [ 1.1498e-01,  5.7156e-02, -1.3893e-01,  5.3460e-02,  1.9334e-02,\n",
       "          -1.0847e-01, -1.4396e-03,  1.1313e-02, -1.5704e-02,  2.6321e-02,\n",
       "          -1.2021e-01,  1.8033e-01, -2.7132e-02,  6.6169e-02, -1.1249e-01,\n",
       "          -1.7388e-02,  4.6865e-03,  6.2766e-02,  1.8512e-02, -4.4881e-02]]],\n",
       "       grad_fn=<StackBackward>)"
      ]
     },
     "execution_count": 18,
     "metadata": {},
     "output_type": "execute_result"
    }
   ],
   "source": [
    "output"
   ]
  },
  {
   "cell_type": "code",
   "execution_count": 19,
   "metadata": {},
   "outputs": [
    {
     "data": {
      "text/plain": [
       "LSTM(10, 20, num_layers=2)"
      ]
     },
     "execution_count": 19,
     "metadata": {},
     "output_type": "execute_result"
    }
   ],
   "source": [
    "rnn"
   ]
  },
  {
   "cell_type": "code",
   "execution_count": 21,
   "metadata": {},
   "outputs": [
    {
     "name": "stdout",
     "output_type": "stream",
     "text": [
      "tensor([1., 2., 3., 4., 5.])\n"
     ]
    }
   ],
   "source": [
    "import torch\n",
    "import torch.nn as nn\n",
    "inp = torch.tensor([1.0, 2.0, 3, 4, 5])\n",
    "\n",
    "outplace_dropout = nn.Dropout(p=0.4)\n",
    "print(inp)"
   ]
  },
  {
   "cell_type": "code",
   "execution_count": 22,
   "metadata": {},
   "outputs": [
    {
     "name": "stdout",
     "output_type": "stream",
     "text": [
      "tensor([1.6667, 3.3333, 5.0000, 6.6667, 8.3333])\n"
     ]
    }
   ],
   "source": [
    "output = outplace_dropout(inp)\n",
    "print(output)"
   ]
  },
  {
   "cell_type": "code",
   "execution_count": 23,
   "metadata": {},
   "outputs": [
    {
     "name": "stdout",
     "output_type": "stream",
     "text": [
      "tensor([1., 2., 3., 4., 5.])\n"
     ]
    }
   ],
   "source": [
    "print(inp)"
   ]
  },
  {
   "cell_type": "code",
   "execution_count": 24,
   "metadata": {},
   "outputs": [
    {
     "name": "stdout",
     "output_type": "stream",
     "text": [
      "tensor([1.6667, 0.0000, 5.0000, 6.6667, 8.3333])\n"
     ]
    }
   ],
   "source": [
    "inplace_droput = nn.Dropout(p=0.4, inplace=True)\n",
    "inplace_droput(inp)\n",
    "print(inp) # Notice that the input is changed now"
   ]
  },
  {
   "cell_type": "code",
   "execution_count": 31,
   "metadata": {},
   "outputs": [
    {
     "name": "stdout",
     "output_type": "stream",
     "text": [
      "[1, 2, 4, 6] [1, 2, 4, 6] [1, 2, 4, 6] [1, 2, 4, 6] "
     ]
    }
   ],
   "source": [
    "a = [1,2,4,6]\n",
    "b = [6,9,0,3]\n",
    "for _ in a:\n",
    "    print(a, end=' ')\n",
    "    "
   ]
  },
  {
   "cell_type": "code",
   "execution_count": 32,
   "metadata": {},
   "outputs": [],
   "source": [
    "rnn = nn.LSTM(10, 20, 2)\n",
    "inp = torch.randn(5, 3, 10)\n",
    "h0 = torch.randn(2, 3, 20)\n",
    "c0 = torch.randn(2, 3, 20)\n",
    "output, (hn, cn) = rnn(inp, (h0, c0))"
   ]
  },
  {
   "cell_type": "code",
   "execution_count": 33,
   "metadata": {},
   "outputs": [
    {
     "data": {
      "text/plain": [
       "LSTM(10, 20, num_layers=2)"
      ]
     },
     "execution_count": 33,
     "metadata": {},
     "output_type": "execute_result"
    }
   ],
   "source": [
    "rnn"
   ]
  },
  {
   "cell_type": "code",
   "execution_count": null,
   "metadata": {},
   "outputs": [],
   "source": []
  }
 ],
 "metadata": {
  "kernelspec": {
   "display_name": "Python 3",
   "language": "python",
   "name": "python3"
  },
  "language_info": {
   "codemirror_mode": {
    "name": "ipython",
    "version": 3
   },
   "file_extension": ".py",
   "mimetype": "text/x-python",
   "name": "python",
   "nbconvert_exporter": "python",
   "pygments_lexer": "ipython3",
   "version": "3.7.6"
  }
 },
 "nbformat": 4,
 "nbformat_minor": 4
}
